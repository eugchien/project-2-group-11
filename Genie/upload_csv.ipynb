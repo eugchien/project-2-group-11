{
 "cells": [
  {
   "cell_type": "code",
   "execution_count": 20,
   "id": "1419a70e-b9d2-4b93-a3be-47166ed928d7",
   "metadata": {},
   "outputs": [],
   "source": [
    "# for database connections\n",
    "import sqlalchemy\n",
    "from sqlalchemy import create_engine, inspect, text\n",
    "\n",
    "# data\n",
    "import pandas as pd"
   ]
  },
  {
   "cell_type": "code",
   "execution_count": 21,
   "id": "84186dba-2f4a-4216-87d7-9c1a76315dfb",
   "metadata": {},
   "outputs": [],
   "source": [
    "SQL_USERNAME = \"postgres\"\n",
    "SQL_PASSWORD = \"postgres\" # change this\n",
    "SQL_IP = \"localhost\"\n",
    "PORT = 5432\n",
    "DATABASE = \"crowdfunding\" # change this"
   ]
  },
  {
   "cell_type": "code",
   "execution_count": 22,
   "id": "bee287cf-c2ef-428c-abf3-63f34e2bde22",
   "metadata": {},
   "outputs": [],
   "source": [
    "connection_string = f\"postgresql+psycopg2://{SQL_USERNAME}:{SQL_PASSWORD}@{SQL_IP}:{PORT}/{DATABASE}\"\n",
    "engine = create_engine(connection_string)"
   ]
  },
  {
   "cell_type": "code",
   "execution_count": 23,
   "id": "daecc24b-2ceb-4af1-b62a-fa90cf50fcb7",
   "metadata": {},
   "outputs": [
    {
     "name": "stdout",
     "output_type": "stream",
     "text": [
      "contacts_df\n",
      "contact_id INTEGER\n",
      "first_name VARCHAR(250)\n",
      "last_name VARCHAR(250)\n",
      "email VARCHAR(250)\n",
      "\n",
      "campaign_df\n",
      "cf_id INTEGER\n",
      "contact_id INTEGER\n",
      "company_name VARCHAR(250)\n",
      "description VARCHAR(250)\n",
      "goal DOUBLE PRECISION\n",
      "pledged DOUBLE PRECISION\n",
      "outcome VARCHAR(250)\n",
      "backers_count INTEGER\n",
      "country VARCHAR(250)\n",
      "currency VARCHAR(10)\n",
      "launch_date TIMESTAMP\n",
      "end_date TIMESTAMP\n",
      "category_id VARCHAR(50)\n",
      "subcategory_id VARCHAR(250)\n",
      "\n",
      "category_df\n",
      "category_id VARCHAR(50)\n",
      "category VARCHAR(250)\n",
      "\n",
      "subcategory_df\n",
      "subcategory_id VARCHAR(50)\n",
      "subcategory VARCHAR(250)\n",
      "\n"
     ]
    }
   ],
   "source": [
    "# explore and understand the data\n",
    "\n",
    "# Create the inspector and connect it to the engine\n",
    "inspector = inspect(engine)\n",
    "\n",
    "# Collect the names of tables within the database\n",
    "tables = inspector.get_table_names()\n",
    "\n",
    "# Using the inspector to print the column names within each table and its types\n",
    "for table in tables:\n",
    "    print(table)\n",
    "    columns = inspector.get_columns(table)\n",
    "    for column in columns:\n",
    "        print(column[\"name\"], column[\"type\"])\n",
    "        \n",
    "    print()"
   ]
  },
  {
   "cell_type": "code",
   "execution_count": 24,
   "id": "5f9bebe2-4fd6-45ef-ab57-763f10bf48c1",
   "metadata": {},
   "outputs": [
    {
     "data": {
      "text/html": [
       "<div>\n",
       "<style scoped>\n",
       "    .dataframe tbody tr th:only-of-type {\n",
       "        vertical-align: middle;\n",
       "    }\n",
       "\n",
       "    .dataframe tbody tr th {\n",
       "        vertical-align: top;\n",
       "    }\n",
       "\n",
       "    .dataframe thead th {\n",
       "        text-align: right;\n",
       "    }\n",
       "</style>\n",
       "<table border=\"1\" class=\"dataframe\">\n",
       "  <thead>\n",
       "    <tr style=\"text-align: right;\">\n",
       "      <th></th>\n",
       "      <th>contact_id</th>\n",
       "      <th>first_name</th>\n",
       "      <th>last_name</th>\n",
       "      <th>email</th>\n",
       "    </tr>\n",
       "  </thead>\n",
       "  <tbody>\n",
       "    <tr>\n",
       "      <th>0</th>\n",
       "      <td>4661</td>\n",
       "      <td>Cecilia</td>\n",
       "      <td>Velasco</td>\n",
       "      <td>cecilia.velasco@rodrigues.fr</td>\n",
       "    </tr>\n",
       "    <tr>\n",
       "      <th>1</th>\n",
       "      <td>3765</td>\n",
       "      <td>Mariana</td>\n",
       "      <td>Ellis</td>\n",
       "      <td>mariana.ellis@rossi.org</td>\n",
       "    </tr>\n",
       "    <tr>\n",
       "      <th>2</th>\n",
       "      <td>4187</td>\n",
       "      <td>Sofie</td>\n",
       "      <td>Woods</td>\n",
       "      <td>sofie.woods@riviere.com</td>\n",
       "    </tr>\n",
       "    <tr>\n",
       "      <th>3</th>\n",
       "      <td>4941</td>\n",
       "      <td>Jeanette</td>\n",
       "      <td>Iannotti</td>\n",
       "      <td>jeanette.iannotti@yahoo.com</td>\n",
       "    </tr>\n",
       "    <tr>\n",
       "      <th>4</th>\n",
       "      <td>2199</td>\n",
       "      <td>Samuel</td>\n",
       "      <td>Sorgatz</td>\n",
       "      <td>samuel.sorgatz@gmail.com</td>\n",
       "    </tr>\n",
       "  </tbody>\n",
       "</table>\n",
       "</div>"
      ],
      "text/plain": [
       "   contact_id first_name last_name                          email\n",
       "0        4661    Cecilia   Velasco   cecilia.velasco@rodrigues.fr\n",
       "1        3765    Mariana     Ellis        mariana.ellis@rossi.org\n",
       "2        4187      Sofie     Woods        sofie.woods@riviere.com\n",
       "3        4941   Jeanette  Iannotti    jeanette.iannotti@yahoo.com\n",
       "4        2199     Samuel   Sorgatz       samuel.sorgatz@gmail.com"
      ]
     },
     "execution_count": 24,
     "metadata": {},
     "output_type": "execute_result"
    }
   ],
   "source": [
    "contacts_df = pd.read_csv(\"../Starter_Files/Resources/contacts.csv\")\n",
    "contacts_df.head()"
   ]
  },
  {
   "cell_type": "code",
   "execution_count": 25,
   "id": "69eb7011-af1d-42b8-bb9d-314aaf879f99",
   "metadata": {},
   "outputs": [
    {
     "data": {
      "text/plain": [
       "1000"
      ]
     },
     "execution_count": 25,
     "metadata": {},
     "output_type": "execute_result"
    }
   ],
   "source": [
    "contacts_df.to_sql(\"contacts_df\", schema=\"public\", con=engine, index=False, if_exists=\"append\", method=\"multi\")"
   ]
  },
  {
   "cell_type": "code",
   "execution_count": 28,
   "id": "b65f1799-e732-41dc-847c-954531c4ec47",
   "metadata": {},
   "outputs": [
    {
     "data": {
      "text/html": [
       "<div>\n",
       "<style scoped>\n",
       "    .dataframe tbody tr th:only-of-type {\n",
       "        vertical-align: middle;\n",
       "    }\n",
       "\n",
       "    .dataframe tbody tr th {\n",
       "        vertical-align: top;\n",
       "    }\n",
       "\n",
       "    .dataframe thead th {\n",
       "        text-align: right;\n",
       "    }\n",
       "</style>\n",
       "<table border=\"1\" class=\"dataframe\">\n",
       "  <thead>\n",
       "    <tr style=\"text-align: right;\">\n",
       "      <th></th>\n",
       "      <th>category_id</th>\n",
       "      <th>category</th>\n",
       "    </tr>\n",
       "  </thead>\n",
       "  <tbody>\n",
       "    <tr>\n",
       "      <th>0</th>\n",
       "      <td>cat1</td>\n",
       "      <td>food</td>\n",
       "    </tr>\n",
       "    <tr>\n",
       "      <th>1</th>\n",
       "      <td>cat2</td>\n",
       "      <td>music</td>\n",
       "    </tr>\n",
       "    <tr>\n",
       "      <th>2</th>\n",
       "      <td>cat3</td>\n",
       "      <td>technology</td>\n",
       "    </tr>\n",
       "    <tr>\n",
       "      <th>3</th>\n",
       "      <td>cat4</td>\n",
       "      <td>theater</td>\n",
       "    </tr>\n",
       "    <tr>\n",
       "      <th>4</th>\n",
       "      <td>cat5</td>\n",
       "      <td>film &amp; video</td>\n",
       "    </tr>\n",
       "  </tbody>\n",
       "</table>\n",
       "</div>"
      ],
      "text/plain": [
       "  category_id      category\n",
       "0        cat1          food\n",
       "1        cat2         music\n",
       "2        cat3    technology\n",
       "3        cat4       theater\n",
       "4        cat5  film & video"
      ]
     },
     "execution_count": 28,
     "metadata": {},
     "output_type": "execute_result"
    }
   ],
   "source": [
    "category_df = pd.read_csv(\"../Starter_Files/Resources/category.csv\")\n",
    "category_df.head()"
   ]
  },
  {
   "cell_type": "code",
   "execution_count": 29,
   "id": "034ca93c-c74b-4355-a690-455c858774e1",
   "metadata": {},
   "outputs": [
    {
     "data": {
      "text/plain": [
       "9"
      ]
     },
     "execution_count": 29,
     "metadata": {},
     "output_type": "execute_result"
    }
   ],
   "source": [
    "category_df.to_sql(\"category_df\", schema=\"public\", con=engine, index=False, if_exists=\"append\", method=\"multi\")"
   ]
  },
  {
   "cell_type": "code",
   "execution_count": 30,
   "id": "afb33c73-1d86-431e-9bd3-8de5ba049dc7",
   "metadata": {},
   "outputs": [
    {
     "data": {
      "text/html": [
       "<div>\n",
       "<style scoped>\n",
       "    .dataframe tbody tr th:only-of-type {\n",
       "        vertical-align: middle;\n",
       "    }\n",
       "\n",
       "    .dataframe tbody tr th {\n",
       "        vertical-align: top;\n",
       "    }\n",
       "\n",
       "    .dataframe thead th {\n",
       "        text-align: right;\n",
       "    }\n",
       "</style>\n",
       "<table border=\"1\" class=\"dataframe\">\n",
       "  <thead>\n",
       "    <tr style=\"text-align: right;\">\n",
       "      <th></th>\n",
       "      <th>subcategory_id</th>\n",
       "      <th>subcategory</th>\n",
       "    </tr>\n",
       "  </thead>\n",
       "  <tbody>\n",
       "    <tr>\n",
       "      <th>0</th>\n",
       "      <td>subcat1</td>\n",
       "      <td>food trucks</td>\n",
       "    </tr>\n",
       "    <tr>\n",
       "      <th>1</th>\n",
       "      <td>subcat2</td>\n",
       "      <td>rock</td>\n",
       "    </tr>\n",
       "    <tr>\n",
       "      <th>2</th>\n",
       "      <td>subcat3</td>\n",
       "      <td>web</td>\n",
       "    </tr>\n",
       "    <tr>\n",
       "      <th>3</th>\n",
       "      <td>subcat4</td>\n",
       "      <td>plays</td>\n",
       "    </tr>\n",
       "    <tr>\n",
       "      <th>4</th>\n",
       "      <td>subcat5</td>\n",
       "      <td>documentary</td>\n",
       "    </tr>\n",
       "  </tbody>\n",
       "</table>\n",
       "</div>"
      ],
      "text/plain": [
       "  subcategory_id  subcategory\n",
       "0        subcat1  food trucks\n",
       "1        subcat2         rock\n",
       "2        subcat3          web\n",
       "3        subcat4        plays\n",
       "4        subcat5  documentary"
      ]
     },
     "execution_count": 30,
     "metadata": {},
     "output_type": "execute_result"
    }
   ],
   "source": [
    "subcategory_df = pd.read_csv(\"../Starter_Files/Resources/subcategory.csv\")\n",
    "subcategory_df.head()"
   ]
  },
  {
   "cell_type": "code",
   "execution_count": 31,
   "id": "2671ae4c-548c-4c9d-9e03-ead44bd43239",
   "metadata": {},
   "outputs": [
    {
     "data": {
      "text/plain": [
       "24"
      ]
     },
     "execution_count": 31,
     "metadata": {},
     "output_type": "execute_result"
    }
   ],
   "source": [
    "subcategory_df.to_sql(\"subcategory_df\", schema=\"public\", con=engine, index=False, if_exists=\"append\", method=\"multi\")"
   ]
  },
  {
   "cell_type": "code",
   "execution_count": 32,
   "id": "723b8c62-3585-4dc7-86c3-c222451768d3",
   "metadata": {},
   "outputs": [
    {
     "data": {
      "text/html": [
       "<div>\n",
       "<style scoped>\n",
       "    .dataframe tbody tr th:only-of-type {\n",
       "        vertical-align: middle;\n",
       "    }\n",
       "\n",
       "    .dataframe tbody tr th {\n",
       "        vertical-align: top;\n",
       "    }\n",
       "\n",
       "    .dataframe thead th {\n",
       "        text-align: right;\n",
       "    }\n",
       "</style>\n",
       "<table border=\"1\" class=\"dataframe\">\n",
       "  <thead>\n",
       "    <tr style=\"text-align: right;\">\n",
       "      <th></th>\n",
       "      <th>cf_id</th>\n",
       "      <th>contact_id</th>\n",
       "      <th>company_name</th>\n",
       "      <th>description</th>\n",
       "      <th>goal</th>\n",
       "      <th>pledged</th>\n",
       "      <th>outcome</th>\n",
       "      <th>backers_count</th>\n",
       "      <th>country</th>\n",
       "      <th>currency</th>\n",
       "      <th>launch_date</th>\n",
       "      <th>end_date</th>\n",
       "      <th>category_id</th>\n",
       "      <th>subcategory_id</th>\n",
       "    </tr>\n",
       "  </thead>\n",
       "  <tbody>\n",
       "    <tr>\n",
       "      <th>0</th>\n",
       "      <td>147</td>\n",
       "      <td>4661</td>\n",
       "      <td>Baldwin, Riley and Jackson</td>\n",
       "      <td>Pre-emptive tertiary standardization</td>\n",
       "      <td>100.0</td>\n",
       "      <td>0.0</td>\n",
       "      <td>failed</td>\n",
       "      <td>0</td>\n",
       "      <td>CA</td>\n",
       "      <td>CAD</td>\n",
       "      <td>1970-01-01 00:00:01.581573600</td>\n",
       "      <td>1970-01-01 00:00:01.614578400</td>\n",
       "      <td>cat1</td>\n",
       "      <td>subcat1</td>\n",
       "    </tr>\n",
       "    <tr>\n",
       "      <th>1</th>\n",
       "      <td>1175</td>\n",
       "      <td>2288</td>\n",
       "      <td>Werner-Bryant</td>\n",
       "      <td>Virtual uniform frame</td>\n",
       "      <td>1800.0</td>\n",
       "      <td>7991.0</td>\n",
       "      <td>successful</td>\n",
       "      <td>222</td>\n",
       "      <td>US</td>\n",
       "      <td>USD</td>\n",
       "      <td>1970-01-01 00:00:01.592629200</td>\n",
       "      <td>1970-01-01 00:00:01.611986400</td>\n",
       "      <td>cat1</td>\n",
       "      <td>subcat1</td>\n",
       "    </tr>\n",
       "    <tr>\n",
       "      <th>2</th>\n",
       "      <td>873</td>\n",
       "      <td>2067</td>\n",
       "      <td>Stewart LLC</td>\n",
       "      <td>Cloned bi-directional architecture</td>\n",
       "      <td>1300.0</td>\n",
       "      <td>12047.0</td>\n",
       "      <td>successful</td>\n",
       "      <td>113</td>\n",
       "      <td>US</td>\n",
       "      <td>USD</td>\n",
       "      <td>1970-01-01 00:00:01.606629600</td>\n",
       "      <td>1970-01-01 00:00:01.623387600</td>\n",
       "      <td>cat1</td>\n",
       "      <td>subcat1</td>\n",
       "    </tr>\n",
       "    <tr>\n",
       "      <th>3</th>\n",
       "      <td>2568</td>\n",
       "      <td>5989</td>\n",
       "      <td>Castillo-Carey</td>\n",
       "      <td>Cross-platform solution-oriented process impro...</td>\n",
       "      <td>142400.0</td>\n",
       "      <td>21307.0</td>\n",
       "      <td>failed</td>\n",
       "      <td>296</td>\n",
       "      <td>US</td>\n",
       "      <td>USD</td>\n",
       "      <td>1970-01-01 00:00:01.588654800</td>\n",
       "      <td>1970-01-01 00:00:01.622350800</td>\n",
       "      <td>cat1</td>\n",
       "      <td>subcat1</td>\n",
       "    </tr>\n",
       "    <tr>\n",
       "      <th>4</th>\n",
       "      <td>1211</td>\n",
       "      <td>3307</td>\n",
       "      <td>Wright, Hartman and Yu</td>\n",
       "      <td>User-friendly tertiary array</td>\n",
       "      <td>3300.0</td>\n",
       "      <td>12437.0</td>\n",
       "      <td>successful</td>\n",
       "      <td>131</td>\n",
       "      <td>US</td>\n",
       "      <td>USD</td>\n",
       "      <td>1970-01-01 00:00:01.611900000</td>\n",
       "      <td>1970-01-01 00:00:01.613196000</td>\n",
       "      <td>cat1</td>\n",
       "      <td>subcat1</td>\n",
       "    </tr>\n",
       "  </tbody>\n",
       "</table>\n",
       "</div>"
      ],
      "text/plain": [
       "   cf_id  contact_id                company_name  \\\n",
       "0    147        4661  Baldwin, Riley and Jackson   \n",
       "1   1175        2288               Werner-Bryant   \n",
       "2    873        2067                 Stewart LLC   \n",
       "3   2568        5989              Castillo-Carey   \n",
       "4   1211        3307      Wright, Hartman and Yu   \n",
       "\n",
       "                                         description      goal  pledged  \\\n",
       "0               Pre-emptive tertiary standardization     100.0      0.0   \n",
       "1                              Virtual uniform frame    1800.0   7991.0   \n",
       "2                 Cloned bi-directional architecture    1300.0  12047.0   \n",
       "3  Cross-platform solution-oriented process impro...  142400.0  21307.0   \n",
       "4                       User-friendly tertiary array    3300.0  12437.0   \n",
       "\n",
       "      outcome  backers_count country currency                    launch_date  \\\n",
       "0      failed              0      CA      CAD  1970-01-01 00:00:01.581573600   \n",
       "1  successful            222      US      USD  1970-01-01 00:00:01.592629200   \n",
       "2  successful            113      US      USD  1970-01-01 00:00:01.606629600   \n",
       "3      failed            296      US      USD  1970-01-01 00:00:01.588654800   \n",
       "4  successful            131      US      USD  1970-01-01 00:00:01.611900000   \n",
       "\n",
       "                        end_date category_id subcategory_id  \n",
       "0  1970-01-01 00:00:01.614578400        cat1        subcat1  \n",
       "1  1970-01-01 00:00:01.611986400        cat1        subcat1  \n",
       "2  1970-01-01 00:00:01.623387600        cat1        subcat1  \n",
       "3  1970-01-01 00:00:01.622350800        cat1        subcat1  \n",
       "4  1970-01-01 00:00:01.613196000        cat1        subcat1  "
      ]
     },
     "execution_count": 32,
     "metadata": {},
     "output_type": "execute_result"
    }
   ],
   "source": [
    "campaign_df = pd.read_csv(\"../Starter_Files/Resources/campaign.csv\")\n",
    "campaign_df.head()"
   ]
  },
  {
   "cell_type": "code",
   "execution_count": 33,
   "id": "f4cd8ea2-b8ab-4070-8e4d-719f202a47cb",
   "metadata": {},
   "outputs": [
    {
     "data": {
      "text/plain": [
       "1000"
      ]
     },
     "execution_count": 33,
     "metadata": {},
     "output_type": "execute_result"
    }
   ],
   "source": [
    "campaign_df.to_sql(\"campaign_df\", schema=\"public\", con=engine, index=False, if_exists=\"append\", method=\"multi\")"
   ]
  },
  {
   "cell_type": "code",
   "execution_count": null,
   "id": "e5fd20e7-bb21-4687-9ae9-c7981c9deba9",
   "metadata": {},
   "outputs": [],
   "source": [
    "# engine * select"
   ]
  }
 ],
 "metadata": {
  "kernelspec": {
   "display_name": "Python 3 (ipykernel)",
   "language": "python",
   "name": "python3"
  },
  "language_info": {
   "codemirror_mode": {
    "name": "ipython",
    "version": 3
   },
   "file_extension": ".py",
   "mimetype": "text/x-python",
   "name": "python",
   "nbconvert_exporter": "python",
   "pygments_lexer": "ipython3",
   "version": "3.10.14"
  }
 },
 "nbformat": 4,
 "nbformat_minor": 5
}
