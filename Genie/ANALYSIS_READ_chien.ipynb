{
 "cells": [
  {
   "cell_type": "code",
   "execution_count": 1,
   "id": "e4606953-0c25-4c4e-8b14-b0f31cbeccc4",
   "metadata": {},
   "outputs": [],
   "source": [
    "# Python SQL toolkit and Object Relational Mapper\n",
    "import sqlalchemy\n",
    "from sqlalchemy.ext.automap import automap_base\n",
    "from sqlalchemy.orm import Session\n",
    "from sqlalchemy import create_engine, text, inspect, func\n",
    "\n",
    "# data\n",
    "import pandas as pd\n",
    "import numpy as np\n",
    "\n",
    "# viz\n",
    "import seaborn as sns\n",
    "import matplotlib.pyplot as plt"
   ]
  },
  {
   "cell_type": "code",
   "execution_count": 2,
   "id": "51b522d5-ec60-46e4-a22c-34a4e5685e4f",
   "metadata": {},
   "outputs": [],
   "source": [
    "SQL_USERNAME = \"postgres\"\n",
    "SQL_PASSWORD = \"postgres\" # change this\n",
    "SQL_IP = \"localhost\"\n",
    "PORT = 5432\n",
    "DATABASE = \"crowdfunding\" # change this"
   ]
  },
  {
   "cell_type": "code",
   "execution_count": 3,
   "id": "e2309354-492c-42b5-8020-b02acd35730e",
   "metadata": {},
   "outputs": [],
   "source": [
    "connection_string = f\"postgresql+psycopg2://{SQL_USERNAME}:{SQL_PASSWORD}@{SQL_IP}:{PORT}/{DATABASE}\"\n",
    "engine = create_engine(connection_string)"
   ]
  },
  {
   "cell_type": "code",
   "execution_count": 4,
   "id": "6f62e24e-4537-49df-9ff9-320807ffc317",
   "metadata": {},
   "outputs": [
    {
     "name": "stdout",
     "output_type": "stream",
     "text": [
      "contacts_df\n",
      "-----------\n",
      "contact_id INTEGER\n",
      "first_name VARCHAR(250)\n",
      "last_name VARCHAR(250)\n",
      "email VARCHAR(250)\n",
      "\n",
      "campaign_df\n",
      "-----------\n",
      "cf_id INTEGER\n",
      "contact_id INTEGER\n",
      "company_name VARCHAR(250)\n",
      "description VARCHAR(250)\n",
      "goal DOUBLE PRECISION\n",
      "pledged DOUBLE PRECISION\n",
      "outcome VARCHAR(250)\n",
      "backers_count INTEGER\n",
      "country VARCHAR(250)\n",
      "currency VARCHAR(10)\n",
      "launch_date TIMESTAMP\n",
      "end_date TIMESTAMP\n",
      "category_id VARCHAR(50)\n",
      "subcategory_id VARCHAR(250)\n",
      "\n",
      "category_df\n",
      "-----------\n",
      "category_id VARCHAR(50)\n",
      "category VARCHAR(250)\n",
      "\n",
      "subcategory_df\n",
      "-----------\n",
      "subcategory_id VARCHAR(50)\n",
      "subcategory VARCHAR(250)\n",
      "\n"
     ]
    }
   ],
   "source": [
    "# INSPECT\n",
    "\n",
    "# Create the inspector and connect it to the engine\n",
    "inspector_gadget = inspect(engine)\n",
    "\n",
    "# Collect the names of tables within the database\n",
    "tables = inspector_gadget.get_table_names()\n",
    "\n",
    "# print metadata for each table\n",
    "for table in tables:\n",
    "    print(table)\n",
    "    print(\"-----------\")\n",
    "    \n",
    "    # get columns\n",
    "    columns = inspector_gadget.get_columns(table)\n",
    "    for column in columns:\n",
    "        print(column[\"name\"], column[\"type\"])\n",
    "\n",
    "    print()"
   ]
  },
  {
   "cell_type": "code",
   "execution_count": 5,
   "id": "618a1f9f-b671-4dd2-8d7e-631ebbcd1cee",
   "metadata": {},
   "outputs": [
    {
     "name": "stdout",
     "output_type": "stream",
     "text": [
      "[<class 'sqlalchemy.ext.automap.subcategory_df'>, <class 'sqlalchemy.ext.automap.category_df'>, <class 'sqlalchemy.ext.automap.contacts_df'>, <class 'sqlalchemy.ext.automap.campaign_df'>]\n"
     ]
    }
   ],
   "source": [
    "# Declare a Base using `automap_base()`\n",
    "Base = automap_base()\n",
    "\n",
    "# Use the Base class to reflect the database tables\n",
    "Base.prepare(autoload_with=engine)\n",
    "\n",
    "# Print all of the classes mapped to the Base\n",
    "print(list(Base.classes))"
   ]
  },
  {
   "cell_type": "code",
   "execution_count": 57,
   "id": "85cf829b-38e0-4a05-b722-ea5efe850cc4",
   "metadata": {},
   "outputs": [
    {
     "data": {
      "text/html": [
       "<div>\n",
       "<style scoped>\n",
       "    .dataframe tbody tr th:only-of-type {\n",
       "        vertical-align: middle;\n",
       "    }\n",
       "\n",
       "    .dataframe tbody tr th {\n",
       "        vertical-align: top;\n",
       "    }\n",
       "\n",
       "    .dataframe thead th {\n",
       "        text-align: right;\n",
       "    }\n",
       "</style>\n",
       "<table border=\"1\" class=\"dataframe\">\n",
       "  <thead>\n",
       "    <tr style=\"text-align: right;\">\n",
       "      <th></th>\n",
       "      <th>category_id</th>\n",
       "      <th>subcategory_id</th>\n",
       "      <th>outcome</th>\n",
       "      <th>count</th>\n",
       "    </tr>\n",
       "  </thead>\n",
       "  <tbody>\n",
       "    <tr>\n",
       "      <th>0</th>\n",
       "      <td>cat5</td>\n",
       "      <td>subcat11</td>\n",
       "      <td>live</td>\n",
       "      <td>2</td>\n",
       "    </tr>\n",
       "    <tr>\n",
       "      <th>1</th>\n",
       "      <td>cat6</td>\n",
       "      <td>subcat14</td>\n",
       "      <td>failed</td>\n",
       "      <td>7</td>\n",
       "    </tr>\n",
       "    <tr>\n",
       "      <th>2</th>\n",
       "      <td>cat6</td>\n",
       "      <td>subcat14</td>\n",
       "      <td>successful</td>\n",
       "      <td>9</td>\n",
       "    </tr>\n",
       "    <tr>\n",
       "      <th>3</th>\n",
       "      <td>cat5</td>\n",
       "      <td>subcat13</td>\n",
       "      <td>successful</td>\n",
       "      <td>9</td>\n",
       "    </tr>\n",
       "    <tr>\n",
       "      <th>4</th>\n",
       "      <td>cat6</td>\n",
       "      <td>subcat10</td>\n",
       "      <td>successful</td>\n",
       "      <td>13</td>\n",
       "    </tr>\n",
       "    <tr>\n",
       "      <th>5</th>\n",
       "      <td>cat5</td>\n",
       "      <td>subcat20</td>\n",
       "      <td>successful</td>\n",
       "      <td>11</td>\n",
       "    </tr>\n",
       "    <tr>\n",
       "      <th>6</th>\n",
       "      <td>cat5</td>\n",
       "      <td>subcat5</td>\n",
       "      <td>successful</td>\n",
       "      <td>34</td>\n",
       "    </tr>\n",
       "    <tr>\n",
       "      <th>7</th>\n",
       "      <td>cat3</td>\n",
       "      <td>subcat9</td>\n",
       "      <td>failed</td>\n",
       "      <td>16</td>\n",
       "    </tr>\n",
       "    <tr>\n",
       "      <th>8</th>\n",
       "      <td>cat6</td>\n",
       "      <td>subcat16</td>\n",
       "      <td>successful</td>\n",
       "      <td>4</td>\n",
       "    </tr>\n",
       "    <tr>\n",
       "      <th>9</th>\n",
       "      <td>cat5</td>\n",
       "      <td>subcat20</td>\n",
       "      <td>failed</td>\n",
       "      <td>3</td>\n",
       "    </tr>\n",
       "  </tbody>\n",
       "</table>\n",
       "</div>"
      ],
      "text/plain": [
       "  category_id subcategory_id     outcome  count\n",
       "0        cat5       subcat11        live      2\n",
       "1        cat6       subcat14      failed      7\n",
       "2        cat6       subcat14  successful      9\n",
       "3        cat5       subcat13  successful      9\n",
       "4        cat6       subcat10  successful     13\n",
       "5        cat5       subcat20  successful     11\n",
       "6        cat5        subcat5  successful     34\n",
       "7        cat3        subcat9      failed     16\n",
       "8        cat6       subcat16  successful      4\n",
       "9        cat5       subcat20      failed      3"
      ]
     },
     "execution_count": 57,
     "metadata": {},
     "output_type": "execute_result"
    }
   ],
   "source": [
    "query = \"\"\"\n",
    "SELECT category_id, subcategory_id, outcome, COUNT(outcome)\n",
    "FROM campaign_df\n",
    "GROUP BY category_id, subcategory_id, outcome;\n",
    "  ;\n",
    ";\"\"\"\n",
    "\n",
    "outcome_df = pd.read_sql(text(query), con=engine)\n",
    "outcome_df.head(10)"
   ]
  },
  {
   "cell_type": "code",
   "execution_count": 59,
   "id": "5ef792f2-4311-46f3-a6af-b491619fecbe",
   "metadata": {},
   "outputs": [],
   "source": [
    "import plotly.express as px"
   ]
  },
  {
   "cell_type": "code",
   "execution_count": 65,
   "id": "866a533c",
   "metadata": {},
   "outputs": [
    {
     "data": {
      "application/vnd.plotly.v1+json": {
       "config": {
        "plotlyServerURL": "https://plot.ly"
       },
       "data": [
        {
         "branchvalues": "total",
         "customdata": [
          [
           4
          ],
          [
           20
          ],
          [
           22
          ],
          [
           1
          ],
          [
           6
          ],
          [
           1
          ],
          [
           13
          ],
          [
           1
          ],
          [
           10
          ],
          [
           2
          ],
          [
           21
          ],
          [
           1
          ],
          [
           15
          ],
          [
           2
          ],
          [
           17
          ],
          [
           1
          ],
          [
           5
          ],
          [
           1
          ],
          [
           9
          ],
          [
           1
          ],
          [
           7
          ],
          [
           9
          ],
          [
           4
          ],
          [
           11
          ],
          [
           1
          ],
          [
           26
          ],
          [
           4
          ],
          [
           4
          ],
          [
           3
          ],
          [
           4
          ],
          [
           1
          ],
          [
           6
          ],
          [
           10
          ],
          [
           7
          ],
          [
           14
          ],
          [
           6
          ],
          [
           30
          ],
          [
           49
          ],
          [
           3
          ],
          [
           3
          ],
          [
           11
          ],
          [
           8
          ],
          [
           1
          ],
          [
           4
          ],
          [
           3
          ],
          [
           9
          ],
          [
           5
          ],
          [
           4
          ],
          [
           2
          ],
          [
           12
          ],
          [
           1
          ],
          [
           36
          ],
          [
           23
          ],
          [
           132
          ],
          [
           2
          ],
          [
           187
          ],
          [
           4
          ],
          [
           21
          ],
          [
           1
          ],
          [
           34
          ],
          [
           8
          ],
          [
           10
          ],
          [
           2
          ],
          [
           12
          ],
          [
           1
          ],
          [
           22
          ],
          [
           3
          ],
          [
           19
          ],
          [
           23
          ],
          [
           16
          ],
          [
           1
          ],
          [
           28
          ],
          [
           4
          ],
          [
           20
          ],
          [
           22
          ],
          [
           4.6
          ],
          [
           20.757575757575758
          ],
          [
           31.86868686868687
          ],
          [
           2
          ],
          [
           14.285714285714286
          ],
          [
           1
          ],
          [
           32.5
          ],
          [
           23
          ],
          [
           132
          ],
          [
           2
          ],
          [
           187
          ],
          [
           2.8181818181818183
          ],
          [
           13.333333333333334
          ],
          [
           1.4
          ],
          [
           22.627450980392158
          ],
          [
           1
          ],
          [
           6.25
          ],
          [
           1
          ],
          [
           11.55
          ],
          [
           1
          ],
          [
           12.565217391304348
          ],
          [
           1.6666666666666667
          ],
          [
           14.523809523809524
          ],
          [
           4
          ],
          [
           11
          ],
          [
           1
          ],
          [
           26
          ],
          [
           4
          ],
          [
           11.31578947368421
          ],
          [
           57.565934065934066
          ],
          [
           1.4285714285714286
          ],
          [
           78.68141592920354
          ]
         ],
         "domain": {
          "x": [
           0,
           1
          ],
          "y": [
           0,
           1
          ]
         },
         "hovertemplate": "labels=%{label}<br>count_sum=%{value}<br>parent=%{parent}<br>id=%{id}<br>count=%{color}<extra></extra>",
         "ids": [
          "canceled/cat1/subcat1",
          "failed/cat1/subcat1",
          "successful/cat1/subcat1",
          "canceled/cat6/subcat10",
          "failed/cat6/subcat10",
          "live/cat6/subcat10",
          "successful/cat6/subcat10",
          "canceled/cat5/subcat11",
          "failed/cat5/subcat11",
          "live/cat5/subcat11",
          "successful/cat5/subcat11",
          "canceled/cat7/subcat12",
          "failed/cat7/subcat12",
          "live/cat7/subcat12",
          "successful/cat7/subcat12",
          "canceled/cat5/subcat13",
          "failed/cat5/subcat13",
          "live/cat5/subcat13",
          "successful/cat5/subcat13",
          "canceled/cat6/subcat14",
          "failed/cat6/subcat14",
          "successful/cat6/subcat14",
          "canceled/cat8/subcat15",
          "failed/cat8/subcat15",
          "live/cat8/subcat15",
          "successful/cat8/subcat15",
          "failed/cat6/subcat16",
          "successful/cat6/subcat16",
          "failed/cat2/subcat17",
          "successful/cat2/subcat17",
          "canceled/cat2/subcat18",
          "failed/cat2/subcat18",
          "successful/cat2/subcat18",
          "failed/cat6/subcat19",
          "successful/cat6/subcat19",
          "canceled/cat2/subcat2",
          "failed/cat2/subcat2",
          "successful/cat2/subcat2",
          "canceled/cat5/subcat20",
          "failed/cat5/subcat20",
          "successful/cat5/subcat20",
          "failed/cat7/subcat21",
          "live/cat7/subcat21",
          "successful/cat7/subcat21",
          "successful/cat2/subcat22",
          "failed/cat5/subcat23",
          "successful/cat5/subcat23",
          "successful/cat9/subcat24",
          "canceled/cat3/subcat3",
          "failed/cat3/subcat3",
          "live/cat3/subcat3",
          "successful/cat3/subcat3",
          "canceled/cat4/subcat4",
          "failed/cat4/subcat4",
          "live/cat4/subcat4",
          "successful/cat4/subcat4",
          "canceled/cat5/subcat5",
          "failed/cat5/subcat5",
          "live/cat5/subcat5",
          "successful/cat5/subcat5",
          "failed/cat2/subcat6",
          "successful/cat2/subcat6",
          "canceled/cat5/subcat7",
          "failed/cat5/subcat7",
          "live/cat5/subcat7",
          "successful/cat5/subcat7",
          "canceled/cat2/subcat8",
          "failed/cat2/subcat8",
          "successful/cat2/subcat8",
          "failed/cat3/subcat9",
          "live/cat3/subcat9",
          "successful/cat3/subcat9",
          "canceled/cat1",
          "failed/cat1",
          "successful/cat1",
          "canceled/cat2",
          "failed/cat2",
          "successful/cat2",
          "canceled/cat3",
          "failed/cat3",
          "live/cat3",
          "successful/cat3",
          "canceled/cat4",
          "failed/cat4",
          "live/cat4",
          "successful/cat4",
          "canceled/cat5",
          "failed/cat5",
          "live/cat5",
          "successful/cat5",
          "canceled/cat6",
          "failed/cat6",
          "live/cat6",
          "successful/cat6",
          "canceled/cat7",
          "failed/cat7",
          "live/cat7",
          "successful/cat7",
          "canceled/cat8",
          "failed/cat8",
          "live/cat8",
          "successful/cat8",
          "successful/cat9",
          "canceled",
          "failed",
          "live",
          "successful"
         ],
         "labels": [
          "subcat1",
          "subcat1",
          "subcat1",
          "subcat10",
          "subcat10",
          "subcat10",
          "subcat10",
          "subcat11",
          "subcat11",
          "subcat11",
          "subcat11",
          "subcat12",
          "subcat12",
          "subcat12",
          "subcat12",
          "subcat13",
          "subcat13",
          "subcat13",
          "subcat13",
          "subcat14",
          "subcat14",
          "subcat14",
          "subcat15",
          "subcat15",
          "subcat15",
          "subcat15",
          "subcat16",
          "subcat16",
          "subcat17",
          "subcat17",
          "subcat18",
          "subcat18",
          "subcat18",
          "subcat19",
          "subcat19",
          "subcat2",
          "subcat2",
          "subcat2",
          "subcat20",
          "subcat20",
          "subcat20",
          "subcat21",
          "subcat21",
          "subcat21",
          "subcat22",
          "subcat23",
          "subcat23",
          "subcat24",
          "subcat3",
          "subcat3",
          "subcat3",
          "subcat3",
          "subcat4",
          "subcat4",
          "subcat4",
          "subcat4",
          "subcat5",
          "subcat5",
          "subcat5",
          "subcat5",
          "subcat6",
          "subcat6",
          "subcat7",
          "subcat7",
          "subcat7",
          "subcat7",
          "subcat8",
          "subcat8",
          "subcat8",
          "subcat9",
          "subcat9",
          "subcat9",
          "cat1",
          "cat1",
          "cat1",
          "cat2",
          "cat2",
          "cat2",
          "cat3",
          "cat3",
          "cat3",
          "cat3",
          "cat4",
          "cat4",
          "cat4",
          "cat4",
          "cat5",
          "cat5",
          "cat5",
          "cat5",
          "cat6",
          "cat6",
          "cat6",
          "cat6",
          "cat7",
          "cat7",
          "cat7",
          "cat7",
          "cat8",
          "cat8",
          "cat8",
          "cat8",
          "cat9",
          "canceled",
          "failed",
          "live",
          "successful"
         ],
         "marker": {
          "coloraxis": "coloraxis",
          "colors": [
           4,
           20,
           22,
           1,
           6,
           1,
           13,
           1,
           10,
           2,
           21,
           1,
           15,
           2,
           17,
           1,
           5,
           1,
           9,
           1,
           7,
           9,
           4,
           11,
           1,
           26,
           4,
           4,
           3,
           4,
           1,
           6,
           10,
           7,
           14,
           6,
           30,
           49,
           3,
           3,
           11,
           8,
           1,
           4,
           3,
           9,
           5,
           4,
           2,
           12,
           1,
           36,
           23,
           132,
           2,
           187,
           4,
           21,
           1,
           34,
           8,
           10,
           2,
           12,
           1,
           22,
           3,
           19,
           23,
           16,
           1,
           28,
           4,
           20,
           22,
           4.6,
           20.757575757575758,
           31.86868686868687,
           2,
           14.285714285714286,
           1,
           32.5,
           23,
           132,
           2,
           187,
           2.8181818181818183,
           13.333333333333334,
           1.4,
           22.627450980392158,
           1,
           6.25,
           1,
           11.55,
           1,
           12.565217391304348,
           1.6666666666666667,
           14.523809523809524,
           4,
           11,
           1,
           26,
           4,
           11.31578947368421,
           57.565934065934066,
           1.4285714285714286,
           78.68141592920354
          ]
         },
         "name": "",
         "parents": [
          "canceled/cat1",
          "failed/cat1",
          "successful/cat1",
          "canceled/cat6",
          "failed/cat6",
          "live/cat6",
          "successful/cat6",
          "canceled/cat5",
          "failed/cat5",
          "live/cat5",
          "successful/cat5",
          "canceled/cat7",
          "failed/cat7",
          "live/cat7",
          "successful/cat7",
          "canceled/cat5",
          "failed/cat5",
          "live/cat5",
          "successful/cat5",
          "canceled/cat6",
          "failed/cat6",
          "successful/cat6",
          "canceled/cat8",
          "failed/cat8",
          "live/cat8",
          "successful/cat8",
          "failed/cat6",
          "successful/cat6",
          "failed/cat2",
          "successful/cat2",
          "canceled/cat2",
          "failed/cat2",
          "successful/cat2",
          "failed/cat6",
          "successful/cat6",
          "canceled/cat2",
          "failed/cat2",
          "successful/cat2",
          "canceled/cat5",
          "failed/cat5",
          "successful/cat5",
          "failed/cat7",
          "live/cat7",
          "successful/cat7",
          "successful/cat2",
          "failed/cat5",
          "successful/cat5",
          "successful/cat9",
          "canceled/cat3",
          "failed/cat3",
          "live/cat3",
          "successful/cat3",
          "canceled/cat4",
          "failed/cat4",
          "live/cat4",
          "successful/cat4",
          "canceled/cat5",
          "failed/cat5",
          "live/cat5",
          "successful/cat5",
          "failed/cat2",
          "successful/cat2",
          "canceled/cat5",
          "failed/cat5",
          "live/cat5",
          "successful/cat5",
          "canceled/cat2",
          "failed/cat2",
          "successful/cat2",
          "failed/cat3",
          "live/cat3",
          "successful/cat3",
          "canceled",
          "failed",
          "successful",
          "canceled",
          "failed",
          "successful",
          "canceled",
          "failed",
          "live",
          "successful",
          "canceled",
          "failed",
          "live",
          "successful",
          "canceled",
          "failed",
          "live",
          "successful",
          "canceled",
          "failed",
          "live",
          "successful",
          "canceled",
          "failed",
          "live",
          "successful",
          "canceled",
          "failed",
          "live",
          "successful",
          "successful",
          "",
          "",
          "",
          ""
         ],
         "type": "treemap",
         "values": [
          4,
          20,
          22,
          1,
          6,
          1,
          13,
          1,
          10,
          2,
          21,
          1,
          15,
          2,
          17,
          1,
          5,
          1,
          9,
          1,
          7,
          9,
          4,
          11,
          1,
          26,
          4,
          4,
          3,
          4,
          1,
          6,
          10,
          7,
          14,
          6,
          30,
          49,
          3,
          3,
          11,
          8,
          1,
          4,
          3,
          9,
          5,
          4,
          2,
          12,
          1,
          36,
          23,
          132,
          2,
          187,
          4,
          21,
          1,
          34,
          8,
          10,
          2,
          12,
          1,
          22,
          3,
          19,
          23,
          16,
          1,
          28,
          4,
          20,
          22,
          10,
          66,
          99,
          2,
          28,
          2,
          64,
          23,
          132,
          2,
          187,
          11,
          60,
          5,
          102,
          2,
          24,
          1,
          40,
          1,
          23,
          3,
          21,
          4,
          11,
          1,
          26,
          4,
          57,
          364,
          14,
          565
         ]
        }
       ],
       "layout": {
        "autosize": false,
        "coloraxis": {
         "colorbar": {
          "title": {
           "text": "count"
          }
         },
         "colorscale": [
          [
           0,
           "#0d0887"
          ],
          [
           0.1111111111111111,
           "#46039f"
          ],
          [
           0.2222222222222222,
           "#7201a8"
          ],
          [
           0.3333333333333333,
           "#9c179e"
          ],
          [
           0.4444444444444444,
           "#bd3786"
          ],
          [
           0.5555555555555556,
           "#d8576b"
          ],
          [
           0.6666666666666666,
           "#ed7953"
          ],
          [
           0.7777777777777778,
           "#fb9f3a"
          ],
          [
           0.8888888888888888,
           "#fdca26"
          ],
          [
           1,
           "#f0f921"
          ]
         ]
        },
        "height": 800,
        "legend": {
         "tracegroupgap": 0
        },
        "margin": {
         "b": 10,
         "l": 10,
         "r": 10,
         "t": 50
        },
        "template": {
         "data": {
          "bar": [
           {
            "error_x": {
             "color": "#2a3f5f"
            },
            "error_y": {
             "color": "#2a3f5f"
            },
            "marker": {
             "line": {
              "color": "#E5ECF6",
              "width": 0.5
             },
             "pattern": {
              "fillmode": "overlay",
              "size": 10,
              "solidity": 0.2
             }
            },
            "type": "bar"
           }
          ],
          "barpolar": [
           {
            "marker": {
             "line": {
              "color": "#E5ECF6",
              "width": 0.5
             },
             "pattern": {
              "fillmode": "overlay",
              "size": 10,
              "solidity": 0.2
             }
            },
            "type": "barpolar"
           }
          ],
          "carpet": [
           {
            "aaxis": {
             "endlinecolor": "#2a3f5f",
             "gridcolor": "white",
             "linecolor": "white",
             "minorgridcolor": "white",
             "startlinecolor": "#2a3f5f"
            },
            "baxis": {
             "endlinecolor": "#2a3f5f",
             "gridcolor": "white",
             "linecolor": "white",
             "minorgridcolor": "white",
             "startlinecolor": "#2a3f5f"
            },
            "type": "carpet"
           }
          ],
          "choropleth": [
           {
            "colorbar": {
             "outlinewidth": 0,
             "ticks": ""
            },
            "type": "choropleth"
           }
          ],
          "contour": [
           {
            "colorbar": {
             "outlinewidth": 0,
             "ticks": ""
            },
            "colorscale": [
             [
              0,
              "#0d0887"
             ],
             [
              0.1111111111111111,
              "#46039f"
             ],
             [
              0.2222222222222222,
              "#7201a8"
             ],
             [
              0.3333333333333333,
              "#9c179e"
             ],
             [
              0.4444444444444444,
              "#bd3786"
             ],
             [
              0.5555555555555556,
              "#d8576b"
             ],
             [
              0.6666666666666666,
              "#ed7953"
             ],
             [
              0.7777777777777778,
              "#fb9f3a"
             ],
             [
              0.8888888888888888,
              "#fdca26"
             ],
             [
              1,
              "#f0f921"
             ]
            ],
            "type": "contour"
           }
          ],
          "contourcarpet": [
           {
            "colorbar": {
             "outlinewidth": 0,
             "ticks": ""
            },
            "type": "contourcarpet"
           }
          ],
          "heatmap": [
           {
            "colorbar": {
             "outlinewidth": 0,
             "ticks": ""
            },
            "colorscale": [
             [
              0,
              "#0d0887"
             ],
             [
              0.1111111111111111,
              "#46039f"
             ],
             [
              0.2222222222222222,
              "#7201a8"
             ],
             [
              0.3333333333333333,
              "#9c179e"
             ],
             [
              0.4444444444444444,
              "#bd3786"
             ],
             [
              0.5555555555555556,
              "#d8576b"
             ],
             [
              0.6666666666666666,
              "#ed7953"
             ],
             [
              0.7777777777777778,
              "#fb9f3a"
             ],
             [
              0.8888888888888888,
              "#fdca26"
             ],
             [
              1,
              "#f0f921"
             ]
            ],
            "type": "heatmap"
           }
          ],
          "heatmapgl": [
           {
            "colorbar": {
             "outlinewidth": 0,
             "ticks": ""
            },
            "colorscale": [
             [
              0,
              "#0d0887"
             ],
             [
              0.1111111111111111,
              "#46039f"
             ],
             [
              0.2222222222222222,
              "#7201a8"
             ],
             [
              0.3333333333333333,
              "#9c179e"
             ],
             [
              0.4444444444444444,
              "#bd3786"
             ],
             [
              0.5555555555555556,
              "#d8576b"
             ],
             [
              0.6666666666666666,
              "#ed7953"
             ],
             [
              0.7777777777777778,
              "#fb9f3a"
             ],
             [
              0.8888888888888888,
              "#fdca26"
             ],
             [
              1,
              "#f0f921"
             ]
            ],
            "type": "heatmapgl"
           }
          ],
          "histogram": [
           {
            "marker": {
             "pattern": {
              "fillmode": "overlay",
              "size": 10,
              "solidity": 0.2
             }
            },
            "type": "histogram"
           }
          ],
          "histogram2d": [
           {
            "colorbar": {
             "outlinewidth": 0,
             "ticks": ""
            },
            "colorscale": [
             [
              0,
              "#0d0887"
             ],
             [
              0.1111111111111111,
              "#46039f"
             ],
             [
              0.2222222222222222,
              "#7201a8"
             ],
             [
              0.3333333333333333,
              "#9c179e"
             ],
             [
              0.4444444444444444,
              "#bd3786"
             ],
             [
              0.5555555555555556,
              "#d8576b"
             ],
             [
              0.6666666666666666,
              "#ed7953"
             ],
             [
              0.7777777777777778,
              "#fb9f3a"
             ],
             [
              0.8888888888888888,
              "#fdca26"
             ],
             [
              1,
              "#f0f921"
             ]
            ],
            "type": "histogram2d"
           }
          ],
          "histogram2dcontour": [
           {
            "colorbar": {
             "outlinewidth": 0,
             "ticks": ""
            },
            "colorscale": [
             [
              0,
              "#0d0887"
             ],
             [
              0.1111111111111111,
              "#46039f"
             ],
             [
              0.2222222222222222,
              "#7201a8"
             ],
             [
              0.3333333333333333,
              "#9c179e"
             ],
             [
              0.4444444444444444,
              "#bd3786"
             ],
             [
              0.5555555555555556,
              "#d8576b"
             ],
             [
              0.6666666666666666,
              "#ed7953"
             ],
             [
              0.7777777777777778,
              "#fb9f3a"
             ],
             [
              0.8888888888888888,
              "#fdca26"
             ],
             [
              1,
              "#f0f921"
             ]
            ],
            "type": "histogram2dcontour"
           }
          ],
          "mesh3d": [
           {
            "colorbar": {
             "outlinewidth": 0,
             "ticks": ""
            },
            "type": "mesh3d"
           }
          ],
          "parcoords": [
           {
            "line": {
             "colorbar": {
              "outlinewidth": 0,
              "ticks": ""
             }
            },
            "type": "parcoords"
           }
          ],
          "pie": [
           {
            "automargin": true,
            "type": "pie"
           }
          ],
          "scatter": [
           {
            "fillpattern": {
             "fillmode": "overlay",
             "size": 10,
             "solidity": 0.2
            },
            "type": "scatter"
           }
          ],
          "scatter3d": [
           {
            "line": {
             "colorbar": {
              "outlinewidth": 0,
              "ticks": ""
             }
            },
            "marker": {
             "colorbar": {
              "outlinewidth": 0,
              "ticks": ""
             }
            },
            "type": "scatter3d"
           }
          ],
          "scattercarpet": [
           {
            "marker": {
             "colorbar": {
              "outlinewidth": 0,
              "ticks": ""
             }
            },
            "type": "scattercarpet"
           }
          ],
          "scattergeo": [
           {
            "marker": {
             "colorbar": {
              "outlinewidth": 0,
              "ticks": ""
             }
            },
            "type": "scattergeo"
           }
          ],
          "scattergl": [
           {
            "marker": {
             "colorbar": {
              "outlinewidth": 0,
              "ticks": ""
             }
            },
            "type": "scattergl"
           }
          ],
          "scattermapbox": [
           {
            "marker": {
             "colorbar": {
              "outlinewidth": 0,
              "ticks": ""
             }
            },
            "type": "scattermapbox"
           }
          ],
          "scatterpolar": [
           {
            "marker": {
             "colorbar": {
              "outlinewidth": 0,
              "ticks": ""
             }
            },
            "type": "scatterpolar"
           }
          ],
          "scatterpolargl": [
           {
            "marker": {
             "colorbar": {
              "outlinewidth": 0,
              "ticks": ""
             }
            },
            "type": "scatterpolargl"
           }
          ],
          "scatterternary": [
           {
            "marker": {
             "colorbar": {
              "outlinewidth": 0,
              "ticks": ""
             }
            },
            "type": "scatterternary"
           }
          ],
          "surface": [
           {
            "colorbar": {
             "outlinewidth": 0,
             "ticks": ""
            },
            "colorscale": [
             [
              0,
              "#0d0887"
             ],
             [
              0.1111111111111111,
              "#46039f"
             ],
             [
              0.2222222222222222,
              "#7201a8"
             ],
             [
              0.3333333333333333,
              "#9c179e"
             ],
             [
              0.4444444444444444,
              "#bd3786"
             ],
             [
              0.5555555555555556,
              "#d8576b"
             ],
             [
              0.6666666666666666,
              "#ed7953"
             ],
             [
              0.7777777777777778,
              "#fb9f3a"
             ],
             [
              0.8888888888888888,
              "#fdca26"
             ],
             [
              1,
              "#f0f921"
             ]
            ],
            "type": "surface"
           }
          ],
          "table": [
           {
            "cells": {
             "fill": {
              "color": "#EBF0F8"
             },
             "line": {
              "color": "white"
             }
            },
            "header": {
             "fill": {
              "color": "#C8D4E3"
             },
             "line": {
              "color": "white"
             }
            },
            "type": "table"
           }
          ]
         },
         "layout": {
          "annotationdefaults": {
           "arrowcolor": "#2a3f5f",
           "arrowhead": 0,
           "arrowwidth": 1
          },
          "autotypenumbers": "strict",
          "coloraxis": {
           "colorbar": {
            "outlinewidth": 0,
            "ticks": ""
           }
          },
          "colorscale": {
           "diverging": [
            [
             0,
             "#8e0152"
            ],
            [
             0.1,
             "#c51b7d"
            ],
            [
             0.2,
             "#de77ae"
            ],
            [
             0.3,
             "#f1b6da"
            ],
            [
             0.4,
             "#fde0ef"
            ],
            [
             0.5,
             "#f7f7f7"
            ],
            [
             0.6,
             "#e6f5d0"
            ],
            [
             0.7,
             "#b8e186"
            ],
            [
             0.8,
             "#7fbc41"
            ],
            [
             0.9,
             "#4d9221"
            ],
            [
             1,
             "#276419"
            ]
           ],
           "sequential": [
            [
             0,
             "#0d0887"
            ],
            [
             0.1111111111111111,
             "#46039f"
            ],
            [
             0.2222222222222222,
             "#7201a8"
            ],
            [
             0.3333333333333333,
             "#9c179e"
            ],
            [
             0.4444444444444444,
             "#bd3786"
            ],
            [
             0.5555555555555556,
             "#d8576b"
            ],
            [
             0.6666666666666666,
             "#ed7953"
            ],
            [
             0.7777777777777778,
             "#fb9f3a"
            ],
            [
             0.8888888888888888,
             "#fdca26"
            ],
            [
             1,
             "#f0f921"
            ]
           ],
           "sequentialminus": [
            [
             0,
             "#0d0887"
            ],
            [
             0.1111111111111111,
             "#46039f"
            ],
            [
             0.2222222222222222,
             "#7201a8"
            ],
            [
             0.3333333333333333,
             "#9c179e"
            ],
            [
             0.4444444444444444,
             "#bd3786"
            ],
            [
             0.5555555555555556,
             "#d8576b"
            ],
            [
             0.6666666666666666,
             "#ed7953"
            ],
            [
             0.7777777777777778,
             "#fb9f3a"
            ],
            [
             0.8888888888888888,
             "#fdca26"
            ],
            [
             1,
             "#f0f921"
            ]
           ]
          },
          "colorway": [
           "#636efa",
           "#EF553B",
           "#00cc96",
           "#ab63fa",
           "#FFA15A",
           "#19d3f3",
           "#FF6692",
           "#B6E880",
           "#FF97FF",
           "#FECB52"
          ],
          "font": {
           "color": "#2a3f5f"
          },
          "geo": {
           "bgcolor": "white",
           "lakecolor": "white",
           "landcolor": "#E5ECF6",
           "showlakes": true,
           "showland": true,
           "subunitcolor": "white"
          },
          "hoverlabel": {
           "align": "left"
          },
          "hovermode": "closest",
          "mapbox": {
           "style": "light"
          },
          "paper_bgcolor": "white",
          "plot_bgcolor": "#E5ECF6",
          "polar": {
           "angularaxis": {
            "gridcolor": "white",
            "linecolor": "white",
            "ticks": ""
           },
           "bgcolor": "#E5ECF6",
           "radialaxis": {
            "gridcolor": "white",
            "linecolor": "white",
            "ticks": ""
           }
          },
          "scene": {
           "xaxis": {
            "backgroundcolor": "#E5ECF6",
            "gridcolor": "white",
            "gridwidth": 2,
            "linecolor": "white",
            "showbackground": true,
            "ticks": "",
            "zerolinecolor": "white"
           },
           "yaxis": {
            "backgroundcolor": "#E5ECF6",
            "gridcolor": "white",
            "gridwidth": 2,
            "linecolor": "white",
            "showbackground": true,
            "ticks": "",
            "zerolinecolor": "white"
           },
           "zaxis": {
            "backgroundcolor": "#E5ECF6",
            "gridcolor": "white",
            "gridwidth": 2,
            "linecolor": "white",
            "showbackground": true,
            "ticks": "",
            "zerolinecolor": "white"
           }
          },
          "shapedefaults": {
           "line": {
            "color": "#2a3f5f"
           }
          },
          "ternary": {
           "aaxis": {
            "gridcolor": "white",
            "linecolor": "white",
            "ticks": ""
           },
           "baxis": {
            "gridcolor": "white",
            "linecolor": "white",
            "ticks": ""
           },
           "bgcolor": "#E5ECF6",
           "caxis": {
            "gridcolor": "white",
            "linecolor": "white",
            "ticks": ""
           }
          },
          "title": {
           "x": 0.05
          },
          "xaxis": {
           "automargin": true,
           "gridcolor": "white",
           "linecolor": "white",
           "ticks": "",
           "title": {
            "standoff": 15
           },
           "zerolinecolor": "white",
           "zerolinewidth": 2
          },
          "yaxis": {
           "automargin": true,
           "gridcolor": "white",
           "linecolor": "white",
           "ticks": "",
           "title": {
            "standoff": 15
           },
           "zerolinecolor": "white",
           "zerolinewidth": 2
          }
         }
        },
        "title": {
         "text": "Outcome grouped by category and subcategory"
        },
        "width": 1500
       }
      }
     },
     "metadata": {},
     "output_type": "display_data"
    }
   ],
   "source": [
    "fig=px.treemap(outcome_df, path=['outcome','category_id','subcategory_id'], values='count',color='count')\n",
    "fig.update_layout(\n",
    "    margin=dict(l=10,r=10,t=50,b=10),\n",
    "    autosize=False,\n",
    "    height=800,\n",
    "    width=1500,\n",
    "    title=(\"Outcome grouped by category and subcategory\")\n",
    ")\n",
    "fig.show()"
   ]
  },
  {
   "cell_type": "code",
   "execution_count": null,
   "id": "e87a2be6",
   "metadata": {},
   "outputs": [],
   "source": []
  }
 ],
 "metadata": {
  "kernelspec": {
   "display_name": "Python 3 (ipykernel)",
   "language": "python",
   "name": "python3"
  },
  "language_info": {
   "codemirror_mode": {
    "name": "ipython",
    "version": 3
   },
   "file_extension": ".py",
   "mimetype": "text/x-python",
   "name": "python",
   "nbconvert_exporter": "python",
   "pygments_lexer": "ipython3",
   "version": "3.10.14"
  }
 },
 "nbformat": 4,
 "nbformat_minor": 5
}
