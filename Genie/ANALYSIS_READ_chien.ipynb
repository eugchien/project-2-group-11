{
 "cells": [
  {
   "cell_type": "code",
   "execution_count": 1,
   "id": "e4606953-0c25-4c4e-8b14-b0f31cbeccc4",
   "metadata": {},
   "outputs": [],
   "source": [
    "# Python SQL toolkit and Object Relational Mapper\n",
    "import sqlalchemy\n",
    "from sqlalchemy.ext.automap import automap_base\n",
    "from sqlalchemy.orm import Session\n",
    "from sqlalchemy import create_engine, text, inspect, func\n",
    "\n",
    "# data\n",
    "import pandas as pd\n",
    "import numpy as np\n",
    "\n",
    "# viz\n",
    "import seaborn as sns\n",
    "import matplotlib.pyplot as plt"
   ]
  },
  {
   "cell_type": "code",
   "execution_count": 2,
   "id": "51b522d5-ec60-46e4-a22c-34a4e5685e4f",
   "metadata": {},
   "outputs": [],
   "source": [
    "SQL_USERNAME = \"postgres\"\n",
    "SQL_PASSWORD = \"postgres\" # change this\n",
    "SQL_IP = \"localhost\"\n",
    "PORT = 5432\n",
    "DATABASE = \"crowdfunding\" # change this"
   ]
  },
  {
   "cell_type": "code",
   "execution_count": null,
   "id": "fb11f9cc",
   "metadata": {},
   "outputs": [],
   "source": []
  },
  {
   "cell_type": "code",
   "execution_count": 3,
   "id": "e2309354-492c-42b5-8020-b02acd35730e",
   "metadata": {},
   "outputs": [],
   "source": [
    "connection_string = f\"postgresql+psycopg2://{SQL_USERNAME}:{SQL_PASSWORD}@{SQL_IP}:{PORT}/{DATABASE}\"\n",
    "engine = create_engine(connection_string)"
   ]
  },
  {
   "cell_type": "code",
   "execution_count": 4,
   "id": "6f62e24e-4537-49df-9ff9-320807ffc317",
   "metadata": {},
   "outputs": [
    {
     "name": "stdout",
     "output_type": "stream",
     "text": [
      "contacts_df\n",
      "-----------\n",
      "contact_id INTEGER\n",
      "first_name VARCHAR(250)\n",
      "last_name VARCHAR(250)\n",
      "email VARCHAR(250)\n",
      "\n",
      "campaign_df\n",
      "-----------\n",
      "cf_id INTEGER\n",
      "contact_id INTEGER\n",
      "company_name VARCHAR(250)\n",
      "description VARCHAR(250)\n",
      "goal DOUBLE PRECISION\n",
      "pledged DOUBLE PRECISION\n",
      "outcome VARCHAR(250)\n",
      "backers_count INTEGER\n",
      "country VARCHAR(250)\n",
      "currency VARCHAR(10)\n",
      "launch_date TIMESTAMP\n",
      "end_date TIMESTAMP\n",
      "category_id VARCHAR(50)\n",
      "subcategory_id VARCHAR(250)\n",
      "\n",
      "category_df\n",
      "-----------\n",
      "category_id VARCHAR(50)\n",
      "category VARCHAR(250)\n",
      "\n",
      "subcategory_df\n",
      "-----------\n",
      "subcategory_id VARCHAR(50)\n",
      "subcategory VARCHAR(250)\n",
      "\n"
     ]
    }
   ],
   "source": [
    "# INSPECT\n",
    "\n",
    "# Create the inspector and connect it to the engine\n",
    "inspector_gadget = inspect(engine)\n",
    "\n",
    "# Collect the names of tables within the database\n",
    "tables = inspector_gadget.get_table_names()\n",
    "\n",
    "# print metadata for each table\n",
    "for table in tables:\n",
    "    print(table)\n",
    "    print(\"-----------\")\n",
    "    \n",
    "    # get columns\n",
    "    columns = inspector_gadget.get_columns(table)\n",
    "    for column in columns:\n",
    "        print(column[\"name\"], column[\"type\"])\n",
    "\n",
    "    print()"
   ]
  },
  {
   "cell_type": "code",
   "execution_count": 5,
   "id": "618a1f9f-b671-4dd2-8d7e-631ebbcd1cee",
   "metadata": {},
   "outputs": [
    {
     "name": "stdout",
     "output_type": "stream",
     "text": [
      "[<class 'sqlalchemy.ext.automap.subcategory_df'>, <class 'sqlalchemy.ext.automap.category_df'>, <class 'sqlalchemy.ext.automap.contacts_df'>, <class 'sqlalchemy.ext.automap.campaign_df'>]\n"
     ]
    }
   ],
   "source": [
    "# Declare a Base using `automap_base()`\n",
    "Base = automap_base()\n",
    "\n",
    "# Use the Base class to reflect the database tables\n",
    "Base.prepare(autoload_with=engine)\n",
    "\n",
    "# Print all of the classes mapped to the Base\n",
    "print(list(Base.classes))"
   ]
  },
  {
   "cell_type": "code",
   "execution_count": 98,
   "id": "85cf829b-38e0-4a05-b722-ea5efe850cc4",
   "metadata": {},
   "outputs": [
    {
     "data": {
      "text/html": [
       "<div>\n",
       "<style scoped>\n",
       "    .dataframe tbody tr th:only-of-type {\n",
       "        vertical-align: middle;\n",
       "    }\n",
       "\n",
       "    .dataframe tbody tr th {\n",
       "        vertical-align: top;\n",
       "    }\n",
       "\n",
       "    .dataframe thead th {\n",
       "        text-align: right;\n",
       "    }\n",
       "</style>\n",
       "<table border=\"1\" class=\"dataframe\">\n",
       "  <thead>\n",
       "    <tr style=\"text-align: right;\">\n",
       "      <th></th>\n",
       "      <th>cf_id</th>\n",
       "      <th>contact_id</th>\n",
       "      <th>company_name</th>\n",
       "      <th>description</th>\n",
       "      <th>goal</th>\n",
       "      <th>pledged</th>\n",
       "      <th>outcome</th>\n",
       "      <th>backers_count</th>\n",
       "      <th>country</th>\n",
       "      <th>currency</th>\n",
       "      <th>launch_date</th>\n",
       "      <th>end_date</th>\n",
       "      <th>category_id</th>\n",
       "      <th>subcategory_id</th>\n",
       "      <th>category</th>\n",
       "      <th>subcategory</th>\n",
       "    </tr>\n",
       "  </thead>\n",
       "  <tbody>\n",
       "    <tr>\n",
       "      <th>0</th>\n",
       "      <td>147</td>\n",
       "      <td>4661</td>\n",
       "      <td>Baldwin, Riley and Jackson</td>\n",
       "      <td>Pre-emptive tertiary standardization</td>\n",
       "      <td>100.0</td>\n",
       "      <td>0.0</td>\n",
       "      <td>failed</td>\n",
       "      <td>0</td>\n",
       "      <td>CA</td>\n",
       "      <td>CAD</td>\n",
       "      <td>1970-01-01 00:00:01.581574</td>\n",
       "      <td>1970-01-01 00:00:01.614578</td>\n",
       "      <td>cat1</td>\n",
       "      <td>subcat1</td>\n",
       "      <td>food</td>\n",
       "      <td>food trucks</td>\n",
       "    </tr>\n",
       "    <tr>\n",
       "      <th>1</th>\n",
       "      <td>1175</td>\n",
       "      <td>2288</td>\n",
       "      <td>Werner-Bryant</td>\n",
       "      <td>Virtual uniform frame</td>\n",
       "      <td>1800.0</td>\n",
       "      <td>7991.0</td>\n",
       "      <td>successful</td>\n",
       "      <td>222</td>\n",
       "      <td>US</td>\n",
       "      <td>USD</td>\n",
       "      <td>1970-01-01 00:00:01.592629</td>\n",
       "      <td>1970-01-01 00:00:01.611986</td>\n",
       "      <td>cat1</td>\n",
       "      <td>subcat1</td>\n",
       "      <td>food</td>\n",
       "      <td>food trucks</td>\n",
       "    </tr>\n",
       "    <tr>\n",
       "      <th>2</th>\n",
       "      <td>873</td>\n",
       "      <td>2067</td>\n",
       "      <td>Stewart LLC</td>\n",
       "      <td>Cloned bi-directional architecture</td>\n",
       "      <td>1300.0</td>\n",
       "      <td>12047.0</td>\n",
       "      <td>successful</td>\n",
       "      <td>113</td>\n",
       "      <td>US</td>\n",
       "      <td>USD</td>\n",
       "      <td>1970-01-01 00:00:01.606630</td>\n",
       "      <td>1970-01-01 00:00:01.623388</td>\n",
       "      <td>cat1</td>\n",
       "      <td>subcat1</td>\n",
       "      <td>food</td>\n",
       "      <td>food trucks</td>\n",
       "    </tr>\n",
       "    <tr>\n",
       "      <th>3</th>\n",
       "      <td>2568</td>\n",
       "      <td>5989</td>\n",
       "      <td>Castillo-Carey</td>\n",
       "      <td>Cross-platform solution-oriented process impro...</td>\n",
       "      <td>142400.0</td>\n",
       "      <td>21307.0</td>\n",
       "      <td>failed</td>\n",
       "      <td>296</td>\n",
       "      <td>US</td>\n",
       "      <td>USD</td>\n",
       "      <td>1970-01-01 00:00:01.588655</td>\n",
       "      <td>1970-01-01 00:00:01.622351</td>\n",
       "      <td>cat1</td>\n",
       "      <td>subcat1</td>\n",
       "      <td>food</td>\n",
       "      <td>food trucks</td>\n",
       "    </tr>\n",
       "    <tr>\n",
       "      <th>4</th>\n",
       "      <td>1211</td>\n",
       "      <td>3307</td>\n",
       "      <td>Wright, Hartman and Yu</td>\n",
       "      <td>User-friendly tertiary array</td>\n",
       "      <td>3300.0</td>\n",
       "      <td>12437.0</td>\n",
       "      <td>successful</td>\n",
       "      <td>131</td>\n",
       "      <td>US</td>\n",
       "      <td>USD</td>\n",
       "      <td>1970-01-01 00:00:01.611900</td>\n",
       "      <td>1970-01-01 00:00:01.613196</td>\n",
       "      <td>cat1</td>\n",
       "      <td>subcat1</td>\n",
       "      <td>food</td>\n",
       "      <td>food trucks</td>\n",
       "    </tr>\n",
       "    <tr>\n",
       "      <th>5</th>\n",
       "      <td>990</td>\n",
       "      <td>3489</td>\n",
       "      <td>Morgan-Martinez</td>\n",
       "      <td>Mandatory tertiary implementation</td>\n",
       "      <td>148500.0</td>\n",
       "      <td>4756.0</td>\n",
       "      <td>canceled</td>\n",
       "      <td>55</td>\n",
       "      <td>AU</td>\n",
       "      <td>AUD</td>\n",
       "      <td>1970-01-01 00:00:01.616476</td>\n",
       "      <td>1970-01-01 00:00:01.638770</td>\n",
       "      <td>cat1</td>\n",
       "      <td>subcat1</td>\n",
       "      <td>food</td>\n",
       "      <td>food trucks</td>\n",
       "    </tr>\n",
       "    <tr>\n",
       "      <th>6</th>\n",
       "      <td>2228</td>\n",
       "      <td>4404</td>\n",
       "      <td>Alexander-Williams</td>\n",
       "      <td>Triple-buffered cohesive structure</td>\n",
       "      <td>7200.0</td>\n",
       "      <td>6927.0</td>\n",
       "      <td>failed</td>\n",
       "      <td>210</td>\n",
       "      <td>US</td>\n",
       "      <td>USD</td>\n",
       "      <td>1970-01-01 00:00:01.618636</td>\n",
       "      <td>1970-01-01 00:00:01.625720</td>\n",
       "      <td>cat1</td>\n",
       "      <td>subcat1</td>\n",
       "      <td>food</td>\n",
       "      <td>food trucks</td>\n",
       "    </tr>\n",
       "    <tr>\n",
       "      <th>7</th>\n",
       "      <td>509</td>\n",
       "      <td>1867</td>\n",
       "      <td>Mcknight-Freeman</td>\n",
       "      <td>Upgradable scalable methodology</td>\n",
       "      <td>8300.0</td>\n",
       "      <td>6543.0</td>\n",
       "      <td>canceled</td>\n",
       "      <td>82</td>\n",
       "      <td>US</td>\n",
       "      <td>USD</td>\n",
       "      <td>1970-01-01 00:00:01.597295</td>\n",
       "      <td>1970-01-01 00:00:01.619068</td>\n",
       "      <td>cat1</td>\n",
       "      <td>subcat1</td>\n",
       "      <td>food</td>\n",
       "      <td>food trucks</td>\n",
       "    </tr>\n",
       "    <tr>\n",
       "      <th>8</th>\n",
       "      <td>966</td>\n",
       "      <td>4840</td>\n",
       "      <td>Huff LLC</td>\n",
       "      <td>Face-to-face clear-thinking Local Area Network</td>\n",
       "      <td>121500.0</td>\n",
       "      <td>119830.0</td>\n",
       "      <td>failed</td>\n",
       "      <td>2179</td>\n",
       "      <td>US</td>\n",
       "      <td>USD</td>\n",
       "      <td>1970-01-01 00:00:01.618031</td>\n",
       "      <td>1970-01-01 00:00:01.633064</td>\n",
       "      <td>cat1</td>\n",
       "      <td>subcat1</td>\n",
       "      <td>food</td>\n",
       "      <td>food trucks</td>\n",
       "    </tr>\n",
       "    <tr>\n",
       "      <th>9</th>\n",
       "      <td>2765</td>\n",
       "      <td>5565</td>\n",
       "      <td>Ho-Harris</td>\n",
       "      <td>Versatile cohesive encoding</td>\n",
       "      <td>7300.0</td>\n",
       "      <td>717.0</td>\n",
       "      <td>failed</td>\n",
       "      <td>10</td>\n",
       "      <td>US</td>\n",
       "      <td>USD</td>\n",
       "      <td>1970-01-01 00:00:01.606802</td>\n",
       "      <td>1970-01-01 00:00:01.632805</td>\n",
       "      <td>cat1</td>\n",
       "      <td>subcat1</td>\n",
       "      <td>food</td>\n",
       "      <td>food trucks</td>\n",
       "    </tr>\n",
       "  </tbody>\n",
       "</table>\n",
       "</div>"
      ],
      "text/plain": [
       "   cf_id  contact_id                company_name  \\\n",
       "0    147        4661  Baldwin, Riley and Jackson   \n",
       "1   1175        2288               Werner-Bryant   \n",
       "2    873        2067                 Stewart LLC   \n",
       "3   2568        5989              Castillo-Carey   \n",
       "4   1211        3307      Wright, Hartman and Yu   \n",
       "5    990        3489             Morgan-Martinez   \n",
       "6   2228        4404          Alexander-Williams   \n",
       "7    509        1867            Mcknight-Freeman   \n",
       "8    966        4840                    Huff LLC   \n",
       "9   2765        5565                   Ho-Harris   \n",
       "\n",
       "                                         description      goal   pledged  \\\n",
       "0               Pre-emptive tertiary standardization     100.0       0.0   \n",
       "1                              Virtual uniform frame    1800.0    7991.0   \n",
       "2                 Cloned bi-directional architecture    1300.0   12047.0   \n",
       "3  Cross-platform solution-oriented process impro...  142400.0   21307.0   \n",
       "4                       User-friendly tertiary array    3300.0   12437.0   \n",
       "5                  Mandatory tertiary implementation  148500.0    4756.0   \n",
       "6                 Triple-buffered cohesive structure    7200.0    6927.0   \n",
       "7                    Upgradable scalable methodology    8300.0    6543.0   \n",
       "8     Face-to-face clear-thinking Local Area Network  121500.0  119830.0   \n",
       "9                        Versatile cohesive encoding    7300.0     717.0   \n",
       "\n",
       "      outcome  backers_count country currency                launch_date  \\\n",
       "0      failed              0      CA      CAD 1970-01-01 00:00:01.581574   \n",
       "1  successful            222      US      USD 1970-01-01 00:00:01.592629   \n",
       "2  successful            113      US      USD 1970-01-01 00:00:01.606630   \n",
       "3      failed            296      US      USD 1970-01-01 00:00:01.588655   \n",
       "4  successful            131      US      USD 1970-01-01 00:00:01.611900   \n",
       "5    canceled             55      AU      AUD 1970-01-01 00:00:01.616476   \n",
       "6      failed            210      US      USD 1970-01-01 00:00:01.618636   \n",
       "7    canceled             82      US      USD 1970-01-01 00:00:01.597295   \n",
       "8      failed           2179      US      USD 1970-01-01 00:00:01.618031   \n",
       "9      failed             10      US      USD 1970-01-01 00:00:01.606802   \n",
       "\n",
       "                    end_date category_id subcategory_id category  subcategory  \n",
       "0 1970-01-01 00:00:01.614578        cat1        subcat1     food  food trucks  \n",
       "1 1970-01-01 00:00:01.611986        cat1        subcat1     food  food trucks  \n",
       "2 1970-01-01 00:00:01.623388        cat1        subcat1     food  food trucks  \n",
       "3 1970-01-01 00:00:01.622351        cat1        subcat1     food  food trucks  \n",
       "4 1970-01-01 00:00:01.613196        cat1        subcat1     food  food trucks  \n",
       "5 1970-01-01 00:00:01.638770        cat1        subcat1     food  food trucks  \n",
       "6 1970-01-01 00:00:01.625720        cat1        subcat1     food  food trucks  \n",
       "7 1970-01-01 00:00:01.619068        cat1        subcat1     food  food trucks  \n",
       "8 1970-01-01 00:00:01.633064        cat1        subcat1     food  food trucks  \n",
       "9 1970-01-01 00:00:01.632805        cat1        subcat1     food  food trucks  "
      ]
     },
     "execution_count": 98,
     "metadata": {},
     "output_type": "execute_result"
    }
   ],
   "source": [
    "# join category.csv and subcategory.csv\n",
    "\n",
    "\n",
    "join_query = \"\"\"\n",
    "\n",
    "SELECT \n",
    "  campaign_df.*,\n",
    "  category_df.category,\n",
    "  subcategory_df.subcategory\n",
    "\n",
    "FROM campaign_df\n",
    "LEFT JOIN category_df ON\n",
    "category_df.category_id=campaign_df.category_id\n",
    "\n",
    "LEFT JOIN subcategory_df ON\n",
    "subcategory_df.subcategory_id=campaign_df.subcategory_id;\n",
    "\n",
    "\n",
    ";\"\"\"\n",
    "\n",
    "join_df = pd.read_sql(text(join_query), con=engine)\n",
    "\n",
    "join_df.head(10)"
   ]
  },
  {
   "cell_type": "code",
   "execution_count": 105,
   "id": "3d3f86cf",
   "metadata": {},
   "outputs": [
    {
     "data": {
      "text/html": [
       "<div>\n",
       "<style scoped>\n",
       "    .dataframe tbody tr th:only-of-type {\n",
       "        vertical-align: middle;\n",
       "    }\n",
       "\n",
       "    .dataframe tbody tr th {\n",
       "        vertical-align: top;\n",
       "    }\n",
       "\n",
       "    .dataframe thead th {\n",
       "        text-align: right;\n",
       "    }\n",
       "</style>\n",
       "<table border=\"1\" class=\"dataframe\">\n",
       "  <thead>\n",
       "    <tr style=\"text-align: right;\">\n",
       "      <th></th>\n",
       "      <th>outcome</th>\n",
       "      <th>category</th>\n",
       "      <th>subcategory</th>\n",
       "      <th>count</th>\n",
       "    </tr>\n",
       "  </thead>\n",
       "  <tbody>\n",
       "    <tr>\n",
       "      <th>0</th>\n",
       "      <td>canceled</td>\n",
       "      <td>film &amp; video</td>\n",
       "      <td>animation</td>\n",
       "      <td>1</td>\n",
       "    </tr>\n",
       "    <tr>\n",
       "      <th>1</th>\n",
       "      <td>canceled</td>\n",
       "      <td>film &amp; video</td>\n",
       "      <td>documentary</td>\n",
       "      <td>4</td>\n",
       "    </tr>\n",
       "    <tr>\n",
       "      <th>2</th>\n",
       "      <td>canceled</td>\n",
       "      <td>film &amp; video</td>\n",
       "      <td>drama</td>\n",
       "      <td>2</td>\n",
       "    </tr>\n",
       "    <tr>\n",
       "      <th>3</th>\n",
       "      <td>canceled</td>\n",
       "      <td>film &amp; video</td>\n",
       "      <td>shorts</td>\n",
       "      <td>1</td>\n",
       "    </tr>\n",
       "    <tr>\n",
       "      <th>4</th>\n",
       "      <td>canceled</td>\n",
       "      <td>film &amp; video</td>\n",
       "      <td>television</td>\n",
       "      <td>3</td>\n",
       "    </tr>\n",
       "    <tr>\n",
       "      <th>...</th>\n",
       "      <td>...</td>\n",
       "      <td>...</td>\n",
       "      <td>...</td>\n",
       "      <td>...</td>\n",
       "    </tr>\n",
       "    <tr>\n",
       "      <th>67</th>\n",
       "      <td>successful</td>\n",
       "      <td>publishing</td>\n",
       "      <td>radio &amp; podcasts</td>\n",
       "      <td>4</td>\n",
       "    </tr>\n",
       "    <tr>\n",
       "      <th>68</th>\n",
       "      <td>successful</td>\n",
       "      <td>publishing</td>\n",
       "      <td>translations</td>\n",
       "      <td>14</td>\n",
       "    </tr>\n",
       "    <tr>\n",
       "      <th>69</th>\n",
       "      <td>successful</td>\n",
       "      <td>technology</td>\n",
       "      <td>wearables</td>\n",
       "      <td>28</td>\n",
       "    </tr>\n",
       "    <tr>\n",
       "      <th>70</th>\n",
       "      <td>successful</td>\n",
       "      <td>technology</td>\n",
       "      <td>web</td>\n",
       "      <td>36</td>\n",
       "    </tr>\n",
       "    <tr>\n",
       "      <th>71</th>\n",
       "      <td>successful</td>\n",
       "      <td>theater</td>\n",
       "      <td>plays</td>\n",
       "      <td>187</td>\n",
       "    </tr>\n",
       "  </tbody>\n",
       "</table>\n",
       "<p>72 rows × 4 columns</p>\n",
       "</div>"
      ],
      "text/plain": [
       "       outcome      category       subcategory  count\n",
       "0     canceled  film & video         animation      1\n",
       "1     canceled  film & video       documentary      4\n",
       "2     canceled  film & video             drama      2\n",
       "3     canceled  film & video            shorts      1\n",
       "4     canceled  film & video        television      3\n",
       "..         ...           ...               ...    ...\n",
       "67  successful    publishing  radio & podcasts      4\n",
       "68  successful    publishing      translations     14\n",
       "69  successful    technology         wearables     28\n",
       "70  successful    technology               web     36\n",
       "71  successful       theater             plays    187\n",
       "\n",
       "[72 rows x 4 columns]"
      ]
     },
     "metadata": {},
     "output_type": "display_data"
    }
   ],
   "source": [
    "\n",
    "outcome = join_df.groupby(['outcome','category','subcategory'])['outcome'].count().reset_index(name=\"count\")\n",
    "display(outcome)\n"
   ]
  },
  {
   "cell_type": "markdown",
   "id": "b484a373",
   "metadata": {},
   "source": [
    "### Treemap"
   ]
  },
  {
   "cell_type": "code",
   "execution_count": 83,
   "id": "5ef792f2-4311-46f3-a6af-b491619fecbe",
   "metadata": {},
   "outputs": [],
   "source": [
    "import plotly.express as px"
   ]
  },
  {
   "cell_type": "code",
   "execution_count": 106,
   "id": "866a533c",
   "metadata": {},
   "outputs": [
    {
     "data": {
      "application/vnd.plotly.v1+json": {
       "config": {
        "plotlyServerURL": "https://plot.ly"
       },
       "data": [
        {
         "branchvalues": "total",
         "customdata": [
          [
           1
          ],
          [
           10
          ],
          [
           2
          ],
          [
           21
          ],
          [
           4
          ],
          [
           4
          ],
          [
           21
          ],
          [
           1
          ],
          [
           34
          ],
          [
           2
          ],
          [
           12
          ],
          [
           1
          ],
          [
           22
          ],
          [
           8
          ],
          [
           10
          ],
          [
           1
          ],
          [
           7
          ],
          [
           9
          ],
          [
           4
          ],
          [
           20
          ],
          [
           22
          ],
          [
           3
          ],
          [
           19
          ],
          [
           23
          ],
          [
           1
          ],
          [
           6
          ],
          [
           10
          ],
          [
           3
          ],
          [
           4
          ],
          [
           8
          ],
          [
           1
          ],
          [
           4
          ],
          [
           1
          ],
          [
           6
          ],
          [
           1
          ],
          [
           13
          ],
          [
           4
          ],
          [
           11
          ],
          [
           1
          ],
          [
           26
          ],
          [
           23
          ],
          [
           132
          ],
          [
           2
          ],
          [
           187
          ],
          [
           4
          ],
          [
           4
          ],
          [
           6
          ],
          [
           30
          ],
          [
           49
          ],
          [
           9
          ],
          [
           5
          ],
          [
           1
          ],
          [
           5
          ],
          [
           1
          ],
          [
           9
          ],
          [
           3
          ],
          [
           3
          ],
          [
           11
          ],
          [
           7
          ],
          [
           14
          ],
          [
           1
          ],
          [
           15
          ],
          [
           2
          ],
          [
           17
          ],
          [
           16
          ],
          [
           1
          ],
          [
           28
          ],
          [
           2
          ],
          [
           12
          ],
          [
           1
          ],
          [
           36
          ],
          [
           3
          ],
          [
           2.8181818181818183
          ],
          [
           13.333333333333334
          ],
          [
           1.4
          ],
          [
           22.627450980392158
          ],
          [
           4
          ],
          [
           20
          ],
          [
           22
          ],
          [
           1
          ],
          [
           12.565217391304348
          ],
          [
           1.6666666666666667
          ],
          [
           14.523809523809524
          ],
          [
           4
          ],
          [
           4.6
          ],
          [
           20.757575757575758
          ],
          [
           31.86868686868687
          ],
          [
           4
          ],
          [
           11
          ],
          [
           1
          ],
          [
           26
          ],
          [
           1
          ],
          [
           6.25
          ],
          [
           1
          ],
          [
           11.55
          ],
          [
           2
          ],
          [
           14.285714285714286
          ],
          [
           1
          ],
          [
           32.5
          ],
          [
           23
          ],
          [
           132
          ],
          [
           2
          ],
          [
           187
          ],
          [
           11.31578947368421
          ],
          [
           57.565934065934066
          ],
          [
           1.4285714285714286
          ],
          [
           78.68141592920354
          ]
         ],
         "domain": {
          "x": [
           0,
           1
          ],
          "y": [
           0,
           1
          ]
         },
         "hovertemplate": "labels=%{label}<br>count_sum=%{value}<br>parent=%{parent}<br>id=%{id}<br>count=%{color}<extra></extra>",
         "ids": [
          "canceled/film & video/animation",
          "failed/film & video/animation",
          "live/film & video/animation",
          "successful/film & video/animation",
          "successful/journalism/audio",
          "canceled/film & video/documentary",
          "failed/film & video/documentary",
          "live/film & video/documentary",
          "successful/film & video/documentary",
          "canceled/film & video/drama",
          "failed/film & video/drama",
          "live/film & video/drama",
          "successful/film & video/drama",
          "failed/music/electric music",
          "successful/music/electric music",
          "canceled/publishing/fiction",
          "failed/publishing/fiction",
          "successful/publishing/fiction",
          "canceled/food/food trucks",
          "failed/food/food trucks",
          "successful/food/food trucks",
          "canceled/music/indie rock",
          "failed/music/indie rock",
          "successful/music/indie rock",
          "canceled/music/jazz",
          "failed/music/jazz",
          "successful/music/jazz",
          "failed/music/metal",
          "successful/music/metal",
          "failed/games/mobile games",
          "live/games/mobile games",
          "successful/games/mobile games",
          "canceled/publishing/nonfiction",
          "failed/publishing/nonfiction",
          "live/publishing/nonfiction",
          "successful/publishing/nonfiction",
          "canceled/photography/photography books",
          "failed/photography/photography books",
          "live/photography/photography books",
          "successful/photography/photography books",
          "canceled/theater/plays",
          "failed/theater/plays",
          "live/theater/plays",
          "successful/theater/plays",
          "failed/publishing/radio & podcasts",
          "successful/publishing/radio & podcasts",
          "canceled/music/rock",
          "failed/music/rock",
          "successful/music/rock",
          "failed/film & video/science fiction",
          "successful/film & video/science fiction",
          "canceled/film & video/shorts",
          "failed/film & video/shorts",
          "live/film & video/shorts",
          "successful/film & video/shorts",
          "canceled/film & video/television",
          "failed/film & video/television",
          "successful/film & video/television",
          "failed/publishing/translations",
          "successful/publishing/translations",
          "canceled/games/video games",
          "failed/games/video games",
          "live/games/video games",
          "successful/games/video games",
          "failed/technology/wearables",
          "live/technology/wearables",
          "successful/technology/wearables",
          "canceled/technology/web",
          "failed/technology/web",
          "live/technology/web",
          "successful/technology/web",
          "successful/music/world music",
          "canceled/film & video",
          "failed/film & video",
          "live/film & video",
          "successful/film & video",
          "canceled/food",
          "failed/food",
          "successful/food",
          "canceled/games",
          "failed/games",
          "live/games",
          "successful/games",
          "successful/journalism",
          "canceled/music",
          "failed/music",
          "successful/music",
          "canceled/photography",
          "failed/photography",
          "live/photography",
          "successful/photography",
          "canceled/publishing",
          "failed/publishing",
          "live/publishing",
          "successful/publishing",
          "canceled/technology",
          "failed/technology",
          "live/technology",
          "successful/technology",
          "canceled/theater",
          "failed/theater",
          "live/theater",
          "successful/theater",
          "canceled",
          "failed",
          "live",
          "successful"
         ],
         "labels": [
          "animation",
          "animation",
          "animation",
          "animation",
          "audio",
          "documentary",
          "documentary",
          "documentary",
          "documentary",
          "drama",
          "drama",
          "drama",
          "drama",
          "electric music",
          "electric music",
          "fiction",
          "fiction",
          "fiction",
          "food trucks",
          "food trucks",
          "food trucks",
          "indie rock",
          "indie rock",
          "indie rock",
          "jazz",
          "jazz",
          "jazz",
          "metal",
          "metal",
          "mobile games",
          "mobile games",
          "mobile games",
          "nonfiction",
          "nonfiction",
          "nonfiction",
          "nonfiction",
          "photography books",
          "photography books",
          "photography books",
          "photography books",
          "plays",
          "plays",
          "plays",
          "plays",
          "radio & podcasts",
          "radio & podcasts",
          "rock",
          "rock",
          "rock",
          "science fiction",
          "science fiction",
          "shorts",
          "shorts",
          "shorts",
          "shorts",
          "television",
          "television",
          "television",
          "translations",
          "translations",
          "video games",
          "video games",
          "video games",
          "video games",
          "wearables",
          "wearables",
          "wearables",
          "web",
          "web",
          "web",
          "web",
          "world music",
          "film & video",
          "film & video",
          "film & video",
          "film & video",
          "food",
          "food",
          "food",
          "games",
          "games",
          "games",
          "games",
          "journalism",
          "music",
          "music",
          "music",
          "photography",
          "photography",
          "photography",
          "photography",
          "publishing",
          "publishing",
          "publishing",
          "publishing",
          "technology",
          "technology",
          "technology",
          "technology",
          "theater",
          "theater",
          "theater",
          "theater",
          "canceled",
          "failed",
          "live",
          "successful"
         ],
         "marker": {
          "coloraxis": "coloraxis",
          "colors": [
           1,
           10,
           2,
           21,
           4,
           4,
           21,
           1,
           34,
           2,
           12,
           1,
           22,
           8,
           10,
           1,
           7,
           9,
           4,
           20,
           22,
           3,
           19,
           23,
           1,
           6,
           10,
           3,
           4,
           8,
           1,
           4,
           1,
           6,
           1,
           13,
           4,
           11,
           1,
           26,
           23,
           132,
           2,
           187,
           4,
           4,
           6,
           30,
           49,
           9,
           5,
           1,
           5,
           1,
           9,
           3,
           3,
           11,
           7,
           14,
           1,
           15,
           2,
           17,
           16,
           1,
           28,
           2,
           12,
           1,
           36,
           3,
           2.8181818181818183,
           13.333333333333334,
           1.4,
           22.627450980392158,
           4,
           20,
           22,
           1,
           12.565217391304348,
           1.6666666666666667,
           14.523809523809524,
           4,
           4.6,
           20.757575757575758,
           31.86868686868687,
           4,
           11,
           1,
           26,
           1,
           6.25,
           1,
           11.55,
           2,
           14.285714285714286,
           1,
           32.5,
           23,
           132,
           2,
           187,
           11.31578947368421,
           57.565934065934066,
           1.4285714285714286,
           78.68141592920354
          ]
         },
         "name": "",
         "parents": [
          "canceled/film & video",
          "failed/film & video",
          "live/film & video",
          "successful/film & video",
          "successful/journalism",
          "canceled/film & video",
          "failed/film & video",
          "live/film & video",
          "successful/film & video",
          "canceled/film & video",
          "failed/film & video",
          "live/film & video",
          "successful/film & video",
          "failed/music",
          "successful/music",
          "canceled/publishing",
          "failed/publishing",
          "successful/publishing",
          "canceled/food",
          "failed/food",
          "successful/food",
          "canceled/music",
          "failed/music",
          "successful/music",
          "canceled/music",
          "failed/music",
          "successful/music",
          "failed/music",
          "successful/music",
          "failed/games",
          "live/games",
          "successful/games",
          "canceled/publishing",
          "failed/publishing",
          "live/publishing",
          "successful/publishing",
          "canceled/photography",
          "failed/photography",
          "live/photography",
          "successful/photography",
          "canceled/theater",
          "failed/theater",
          "live/theater",
          "successful/theater",
          "failed/publishing",
          "successful/publishing",
          "canceled/music",
          "failed/music",
          "successful/music",
          "failed/film & video",
          "successful/film & video",
          "canceled/film & video",
          "failed/film & video",
          "live/film & video",
          "successful/film & video",
          "canceled/film & video",
          "failed/film & video",
          "successful/film & video",
          "failed/publishing",
          "successful/publishing",
          "canceled/games",
          "failed/games",
          "live/games",
          "successful/games",
          "failed/technology",
          "live/technology",
          "successful/technology",
          "canceled/technology",
          "failed/technology",
          "live/technology",
          "successful/technology",
          "successful/music",
          "canceled",
          "failed",
          "live",
          "successful",
          "canceled",
          "failed",
          "successful",
          "canceled",
          "failed",
          "live",
          "successful",
          "successful",
          "canceled",
          "failed",
          "successful",
          "canceled",
          "failed",
          "live",
          "successful",
          "canceled",
          "failed",
          "live",
          "successful",
          "canceled",
          "failed",
          "live",
          "successful",
          "canceled",
          "failed",
          "live",
          "successful",
          "",
          "",
          "",
          ""
         ],
         "type": "treemap",
         "values": [
          1,
          10,
          2,
          21,
          4,
          4,
          21,
          1,
          34,
          2,
          12,
          1,
          22,
          8,
          10,
          1,
          7,
          9,
          4,
          20,
          22,
          3,
          19,
          23,
          1,
          6,
          10,
          3,
          4,
          8,
          1,
          4,
          1,
          6,
          1,
          13,
          4,
          11,
          1,
          26,
          23,
          132,
          2,
          187,
          4,
          4,
          6,
          30,
          49,
          9,
          5,
          1,
          5,
          1,
          9,
          3,
          3,
          11,
          7,
          14,
          1,
          15,
          2,
          17,
          16,
          1,
          28,
          2,
          12,
          1,
          36,
          3,
          11,
          60,
          5,
          102,
          4,
          20,
          22,
          1,
          23,
          3,
          21,
          4,
          10,
          66,
          99,
          4,
          11,
          1,
          26,
          2,
          24,
          1,
          40,
          2,
          28,
          2,
          64,
          23,
          132,
          2,
          187,
          57,
          364,
          14,
          565
         ]
        }
       ],
       "layout": {
        "autosize": false,
        "coloraxis": {
         "colorbar": {
          "title": {
           "text": "count"
          }
         },
         "colorscale": [
          [
           0,
           "#0d0887"
          ],
          [
           0.1111111111111111,
           "#46039f"
          ],
          [
           0.2222222222222222,
           "#7201a8"
          ],
          [
           0.3333333333333333,
           "#9c179e"
          ],
          [
           0.4444444444444444,
           "#bd3786"
          ],
          [
           0.5555555555555556,
           "#d8576b"
          ],
          [
           0.6666666666666666,
           "#ed7953"
          ],
          [
           0.7777777777777778,
           "#fb9f3a"
          ],
          [
           0.8888888888888888,
           "#fdca26"
          ],
          [
           1,
           "#f0f921"
          ]
         ]
        },
        "height": 800,
        "legend": {
         "tracegroupgap": 0
        },
        "margin": {
         "b": 10,
         "l": 10,
         "r": 10,
         "t": 50
        },
        "template": {
         "data": {
          "bar": [
           {
            "error_x": {
             "color": "#2a3f5f"
            },
            "error_y": {
             "color": "#2a3f5f"
            },
            "marker": {
             "line": {
              "color": "#E5ECF6",
              "width": 0.5
             },
             "pattern": {
              "fillmode": "overlay",
              "size": 10,
              "solidity": 0.2
             }
            },
            "type": "bar"
           }
          ],
          "barpolar": [
           {
            "marker": {
             "line": {
              "color": "#E5ECF6",
              "width": 0.5
             },
             "pattern": {
              "fillmode": "overlay",
              "size": 10,
              "solidity": 0.2
             }
            },
            "type": "barpolar"
           }
          ],
          "carpet": [
           {
            "aaxis": {
             "endlinecolor": "#2a3f5f",
             "gridcolor": "white",
             "linecolor": "white",
             "minorgridcolor": "white",
             "startlinecolor": "#2a3f5f"
            },
            "baxis": {
             "endlinecolor": "#2a3f5f",
             "gridcolor": "white",
             "linecolor": "white",
             "minorgridcolor": "white",
             "startlinecolor": "#2a3f5f"
            },
            "type": "carpet"
           }
          ],
          "choropleth": [
           {
            "colorbar": {
             "outlinewidth": 0,
             "ticks": ""
            },
            "type": "choropleth"
           }
          ],
          "contour": [
           {
            "colorbar": {
             "outlinewidth": 0,
             "ticks": ""
            },
            "colorscale": [
             [
              0,
              "#0d0887"
             ],
             [
              0.1111111111111111,
              "#46039f"
             ],
             [
              0.2222222222222222,
              "#7201a8"
             ],
             [
              0.3333333333333333,
              "#9c179e"
             ],
             [
              0.4444444444444444,
              "#bd3786"
             ],
             [
              0.5555555555555556,
              "#d8576b"
             ],
             [
              0.6666666666666666,
              "#ed7953"
             ],
             [
              0.7777777777777778,
              "#fb9f3a"
             ],
             [
              0.8888888888888888,
              "#fdca26"
             ],
             [
              1,
              "#f0f921"
             ]
            ],
            "type": "contour"
           }
          ],
          "contourcarpet": [
           {
            "colorbar": {
             "outlinewidth": 0,
             "ticks": ""
            },
            "type": "contourcarpet"
           }
          ],
          "heatmap": [
           {
            "colorbar": {
             "outlinewidth": 0,
             "ticks": ""
            },
            "colorscale": [
             [
              0,
              "#0d0887"
             ],
             [
              0.1111111111111111,
              "#46039f"
             ],
             [
              0.2222222222222222,
              "#7201a8"
             ],
             [
              0.3333333333333333,
              "#9c179e"
             ],
             [
              0.4444444444444444,
              "#bd3786"
             ],
             [
              0.5555555555555556,
              "#d8576b"
             ],
             [
              0.6666666666666666,
              "#ed7953"
             ],
             [
              0.7777777777777778,
              "#fb9f3a"
             ],
             [
              0.8888888888888888,
              "#fdca26"
             ],
             [
              1,
              "#f0f921"
             ]
            ],
            "type": "heatmap"
           }
          ],
          "heatmapgl": [
           {
            "colorbar": {
             "outlinewidth": 0,
             "ticks": ""
            },
            "colorscale": [
             [
              0,
              "#0d0887"
             ],
             [
              0.1111111111111111,
              "#46039f"
             ],
             [
              0.2222222222222222,
              "#7201a8"
             ],
             [
              0.3333333333333333,
              "#9c179e"
             ],
             [
              0.4444444444444444,
              "#bd3786"
             ],
             [
              0.5555555555555556,
              "#d8576b"
             ],
             [
              0.6666666666666666,
              "#ed7953"
             ],
             [
              0.7777777777777778,
              "#fb9f3a"
             ],
             [
              0.8888888888888888,
              "#fdca26"
             ],
             [
              1,
              "#f0f921"
             ]
            ],
            "type": "heatmapgl"
           }
          ],
          "histogram": [
           {
            "marker": {
             "pattern": {
              "fillmode": "overlay",
              "size": 10,
              "solidity": 0.2
             }
            },
            "type": "histogram"
           }
          ],
          "histogram2d": [
           {
            "colorbar": {
             "outlinewidth": 0,
             "ticks": ""
            },
            "colorscale": [
             [
              0,
              "#0d0887"
             ],
             [
              0.1111111111111111,
              "#46039f"
             ],
             [
              0.2222222222222222,
              "#7201a8"
             ],
             [
              0.3333333333333333,
              "#9c179e"
             ],
             [
              0.4444444444444444,
              "#bd3786"
             ],
             [
              0.5555555555555556,
              "#d8576b"
             ],
             [
              0.6666666666666666,
              "#ed7953"
             ],
             [
              0.7777777777777778,
              "#fb9f3a"
             ],
             [
              0.8888888888888888,
              "#fdca26"
             ],
             [
              1,
              "#f0f921"
             ]
            ],
            "type": "histogram2d"
           }
          ],
          "histogram2dcontour": [
           {
            "colorbar": {
             "outlinewidth": 0,
             "ticks": ""
            },
            "colorscale": [
             [
              0,
              "#0d0887"
             ],
             [
              0.1111111111111111,
              "#46039f"
             ],
             [
              0.2222222222222222,
              "#7201a8"
             ],
             [
              0.3333333333333333,
              "#9c179e"
             ],
             [
              0.4444444444444444,
              "#bd3786"
             ],
             [
              0.5555555555555556,
              "#d8576b"
             ],
             [
              0.6666666666666666,
              "#ed7953"
             ],
             [
              0.7777777777777778,
              "#fb9f3a"
             ],
             [
              0.8888888888888888,
              "#fdca26"
             ],
             [
              1,
              "#f0f921"
             ]
            ],
            "type": "histogram2dcontour"
           }
          ],
          "mesh3d": [
           {
            "colorbar": {
             "outlinewidth": 0,
             "ticks": ""
            },
            "type": "mesh3d"
           }
          ],
          "parcoords": [
           {
            "line": {
             "colorbar": {
              "outlinewidth": 0,
              "ticks": ""
             }
            },
            "type": "parcoords"
           }
          ],
          "pie": [
           {
            "automargin": true,
            "type": "pie"
           }
          ],
          "scatter": [
           {
            "fillpattern": {
             "fillmode": "overlay",
             "size": 10,
             "solidity": 0.2
            },
            "type": "scatter"
           }
          ],
          "scatter3d": [
           {
            "line": {
             "colorbar": {
              "outlinewidth": 0,
              "ticks": ""
             }
            },
            "marker": {
             "colorbar": {
              "outlinewidth": 0,
              "ticks": ""
             }
            },
            "type": "scatter3d"
           }
          ],
          "scattercarpet": [
           {
            "marker": {
             "colorbar": {
              "outlinewidth": 0,
              "ticks": ""
             }
            },
            "type": "scattercarpet"
           }
          ],
          "scattergeo": [
           {
            "marker": {
             "colorbar": {
              "outlinewidth": 0,
              "ticks": ""
             }
            },
            "type": "scattergeo"
           }
          ],
          "scattergl": [
           {
            "marker": {
             "colorbar": {
              "outlinewidth": 0,
              "ticks": ""
             }
            },
            "type": "scattergl"
           }
          ],
          "scattermapbox": [
           {
            "marker": {
             "colorbar": {
              "outlinewidth": 0,
              "ticks": ""
             }
            },
            "type": "scattermapbox"
           }
          ],
          "scatterpolar": [
           {
            "marker": {
             "colorbar": {
              "outlinewidth": 0,
              "ticks": ""
             }
            },
            "type": "scatterpolar"
           }
          ],
          "scatterpolargl": [
           {
            "marker": {
             "colorbar": {
              "outlinewidth": 0,
              "ticks": ""
             }
            },
            "type": "scatterpolargl"
           }
          ],
          "scatterternary": [
           {
            "marker": {
             "colorbar": {
              "outlinewidth": 0,
              "ticks": ""
             }
            },
            "type": "scatterternary"
           }
          ],
          "surface": [
           {
            "colorbar": {
             "outlinewidth": 0,
             "ticks": ""
            },
            "colorscale": [
             [
              0,
              "#0d0887"
             ],
             [
              0.1111111111111111,
              "#46039f"
             ],
             [
              0.2222222222222222,
              "#7201a8"
             ],
             [
              0.3333333333333333,
              "#9c179e"
             ],
             [
              0.4444444444444444,
              "#bd3786"
             ],
             [
              0.5555555555555556,
              "#d8576b"
             ],
             [
              0.6666666666666666,
              "#ed7953"
             ],
             [
              0.7777777777777778,
              "#fb9f3a"
             ],
             [
              0.8888888888888888,
              "#fdca26"
             ],
             [
              1,
              "#f0f921"
             ]
            ],
            "type": "surface"
           }
          ],
          "table": [
           {
            "cells": {
             "fill": {
              "color": "#EBF0F8"
             },
             "line": {
              "color": "white"
             }
            },
            "header": {
             "fill": {
              "color": "#C8D4E3"
             },
             "line": {
              "color": "white"
             }
            },
            "type": "table"
           }
          ]
         },
         "layout": {
          "annotationdefaults": {
           "arrowcolor": "#2a3f5f",
           "arrowhead": 0,
           "arrowwidth": 1
          },
          "autotypenumbers": "strict",
          "coloraxis": {
           "colorbar": {
            "outlinewidth": 0,
            "ticks": ""
           }
          },
          "colorscale": {
           "diverging": [
            [
             0,
             "#8e0152"
            ],
            [
             0.1,
             "#c51b7d"
            ],
            [
             0.2,
             "#de77ae"
            ],
            [
             0.3,
             "#f1b6da"
            ],
            [
             0.4,
             "#fde0ef"
            ],
            [
             0.5,
             "#f7f7f7"
            ],
            [
             0.6,
             "#e6f5d0"
            ],
            [
             0.7,
             "#b8e186"
            ],
            [
             0.8,
             "#7fbc41"
            ],
            [
             0.9,
             "#4d9221"
            ],
            [
             1,
             "#276419"
            ]
           ],
           "sequential": [
            [
             0,
             "#0d0887"
            ],
            [
             0.1111111111111111,
             "#46039f"
            ],
            [
             0.2222222222222222,
             "#7201a8"
            ],
            [
             0.3333333333333333,
             "#9c179e"
            ],
            [
             0.4444444444444444,
             "#bd3786"
            ],
            [
             0.5555555555555556,
             "#d8576b"
            ],
            [
             0.6666666666666666,
             "#ed7953"
            ],
            [
             0.7777777777777778,
             "#fb9f3a"
            ],
            [
             0.8888888888888888,
             "#fdca26"
            ],
            [
             1,
             "#f0f921"
            ]
           ],
           "sequentialminus": [
            [
             0,
             "#0d0887"
            ],
            [
             0.1111111111111111,
             "#46039f"
            ],
            [
             0.2222222222222222,
             "#7201a8"
            ],
            [
             0.3333333333333333,
             "#9c179e"
            ],
            [
             0.4444444444444444,
             "#bd3786"
            ],
            [
             0.5555555555555556,
             "#d8576b"
            ],
            [
             0.6666666666666666,
             "#ed7953"
            ],
            [
             0.7777777777777778,
             "#fb9f3a"
            ],
            [
             0.8888888888888888,
             "#fdca26"
            ],
            [
             1,
             "#f0f921"
            ]
           ]
          },
          "colorway": [
           "#636efa",
           "#EF553B",
           "#00cc96",
           "#ab63fa",
           "#FFA15A",
           "#19d3f3",
           "#FF6692",
           "#B6E880",
           "#FF97FF",
           "#FECB52"
          ],
          "font": {
           "color": "#2a3f5f"
          },
          "geo": {
           "bgcolor": "white",
           "lakecolor": "white",
           "landcolor": "#E5ECF6",
           "showlakes": true,
           "showland": true,
           "subunitcolor": "white"
          },
          "hoverlabel": {
           "align": "left"
          },
          "hovermode": "closest",
          "mapbox": {
           "style": "light"
          },
          "paper_bgcolor": "white",
          "plot_bgcolor": "#E5ECF6",
          "polar": {
           "angularaxis": {
            "gridcolor": "white",
            "linecolor": "white",
            "ticks": ""
           },
           "bgcolor": "#E5ECF6",
           "radialaxis": {
            "gridcolor": "white",
            "linecolor": "white",
            "ticks": ""
           }
          },
          "scene": {
           "xaxis": {
            "backgroundcolor": "#E5ECF6",
            "gridcolor": "white",
            "gridwidth": 2,
            "linecolor": "white",
            "showbackground": true,
            "ticks": "",
            "zerolinecolor": "white"
           },
           "yaxis": {
            "backgroundcolor": "#E5ECF6",
            "gridcolor": "white",
            "gridwidth": 2,
            "linecolor": "white",
            "showbackground": true,
            "ticks": "",
            "zerolinecolor": "white"
           },
           "zaxis": {
            "backgroundcolor": "#E5ECF6",
            "gridcolor": "white",
            "gridwidth": 2,
            "linecolor": "white",
            "showbackground": true,
            "ticks": "",
            "zerolinecolor": "white"
           }
          },
          "shapedefaults": {
           "line": {
            "color": "#2a3f5f"
           }
          },
          "ternary": {
           "aaxis": {
            "gridcolor": "white",
            "linecolor": "white",
            "ticks": ""
           },
           "baxis": {
            "gridcolor": "white",
            "linecolor": "white",
            "ticks": ""
           },
           "bgcolor": "#E5ECF6",
           "caxis": {
            "gridcolor": "white",
            "linecolor": "white",
            "ticks": ""
           }
          },
          "title": {
           "x": 0.05
          },
          "xaxis": {
           "automargin": true,
           "gridcolor": "white",
           "linecolor": "white",
           "ticks": "",
           "title": {
            "standoff": 15
           },
           "zerolinecolor": "white",
           "zerolinewidth": 2
          },
          "yaxis": {
           "automargin": true,
           "gridcolor": "white",
           "linecolor": "white",
           "ticks": "",
           "title": {
            "standoff": 15
           },
           "zerolinecolor": "white",
           "zerolinewidth": 2
          }
         }
        },
        "title": {
         "text": "Outcome grouped by category and subcategory"
        },
        "width": 1500
       }
      }
     },
     "metadata": {},
     "output_type": "display_data"
    }
   ],
   "source": [
    "fig=px.treemap(outcome, path=['outcome','category','subcategory'], values='count',color='count')\n",
    "fig.update_layout(\n",
    "    margin=dict(l=10,r=10,t=50,b=10),\n",
    "    autosize=False,\n",
    "    height=800,\n",
    "    width=1500,\n",
    "    title=(\"Outcome grouped by category and subcategory\")\n",
    ")\n",
    "fig.show()"
   ]
  },
  {
   "cell_type": "code",
   "execution_count": null,
   "id": "e87a2be6",
   "metadata": {},
   "outputs": [],
   "source": []
  }
 ],
 "metadata": {
  "kernelspec": {
   "display_name": "Python 3 (ipykernel)",
   "language": "python",
   "name": "python3"
  },
  "language_info": {
   "codemirror_mode": {
    "name": "ipython",
    "version": 3
   },
   "file_extension": ".py",
   "mimetype": "text/x-python",
   "name": "python",
   "nbconvert_exporter": "python",
   "pygments_lexer": "ipython3",
   "version": "3.10.14"
  }
 },
 "nbformat": 4,
 "nbformat_minor": 5
}
