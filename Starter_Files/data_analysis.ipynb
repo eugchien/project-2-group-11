{
 "cells": [
  {
   "cell_type": "code",
   "execution_count": 1,
   "id": "69df2fe9-374c-4e10-a86f-1be70d19c96a",
   "metadata": {},
   "outputs": [],
   "source": [
    "# Dependencies.\n",
    "# Data.\n",
    "import pandas as pd\n",
    "import numpy as np\n",
    "\n",
    "# Data Viz.\n",
    "import seaborn as sns\n",
    "import matplotlib.pyplot as plt\n",
    "import matplotlib.ticker as mtick\n",
    "\n",
    "# Database.\n",
    "import sqlalchemy\n",
    "from sqlalchemy import create_engine, text, inspect\n",
    "\n",
    "# ORM Dependencies.\n",
    "from sqlalchemy import Column, Integer, select, String, Float\n",
    "from sqlalchemy.orm import Session, declarative_base\n",
    "from sqlalchemy.ext.automap import automap_base\n",
    "\n",
    "# Other.\n",
    "import json\n",
    "from pprint import pprint"
   ]
  },
  {
   "cell_type": "code",
   "execution_count": 2,
   "id": "db4666a9-d6a3-4010-bdd3-0aee00a86cde",
   "metadata": {},
   "outputs": [],
   "source": [
    "# Database information for connection.\n",
    "SQL_USERNAME = \"postgres\"\n",
    "SQL_PASSWORD = \"postgres\"\n",
    "SQL_IP = \"localhost\"\n",
    "PORT = 5432\n",
    "DATABASE = \"crowdfunding\""
   ]
  },
  {
   "cell_type": "code",
   "execution_count": 3,
   "id": "fcd14914-e5bd-4b16-a229-572f530a6c3c",
   "metadata": {},
   "outputs": [],
   "source": [
    "# Connection to Database.\n",
    "connection_string = f\"postgresql+psycopg2://{SQL_USERNAME}:{SQL_PASSWORD}@{SQL_IP}:{PORT}/{DATABASE}\"\n",
    "engine = create_engine(connection_string)"
   ]
  },
  {
   "cell_type": "code",
   "execution_count": 4,
   "id": "b6950d98-7aae-4604-aedf-b474f7dbc87f",
   "metadata": {},
   "outputs": [
    {
     "name": "stdout",
     "output_type": "stream",
     "text": [
      "contacts_df\n",
      "contact_id INTEGER\n",
      "first_name VARCHAR(250)\n",
      "last_name VARCHAR(250)\n",
      "email VARCHAR(250)\n",
      "\n",
      "campaign_df\n",
      "cf_id INTEGER\n",
      "contact_id INTEGER\n",
      "company_name VARCHAR(250)\n",
      "description VARCHAR(250)\n",
      "goal DOUBLE PRECISION\n",
      "pledged DOUBLE PRECISION\n",
      "outcome VARCHAR(250)\n",
      "backers_count INTEGER\n",
      "country VARCHAR(250)\n",
      "currency VARCHAR(10)\n",
      "launch_date TIMESTAMP\n",
      "end_date TIMESTAMP\n",
      "category_id VARCHAR(50)\n",
      "subcategory_id VARCHAR(250)\n",
      "\n",
      "category_df\n",
      "category_id VARCHAR(50)\n",
      "category VARCHAR(250)\n",
      "\n",
      "subcategory_df\n",
      "subcategory_id VARCHAR(50)\n",
      "subcategory VARCHAR(250)\n",
      "\n"
     ]
    }
   ],
   "source": [
    "# Inspect the Database.\n",
    "inspector = inspect(engine)\n",
    "\n",
    "# Get names of all tables in Database.\n",
    "tables = inspector.get_table_names()\n",
    "\n",
    "# Print the column names of each table and their type.\n",
    "for table in tables:\n",
    "    print(table)\n",
    "    columns = inspector.get_columns(table)\n",
    "    for column in columns:\n",
    "        print(column[\"name\"], column[\"type\"])\n",
    "        \n",
    "    print()"
   ]
  },
  {
   "cell_type": "code",
   "execution_count": 5,
   "id": "dea2d0d9-de6f-400d-b5ed-e1563b79eb61",
   "metadata": {},
   "outputs": [],
   "source": [
    "# Create a base class.\n",
    "Base = automap_base()\n",
    "\n",
    "# Reflect the tables.\n",
    "Base.prepare(autoload_with=engine)"
   ]
  },
  {
   "cell_type": "code",
   "execution_count": 6,
   "id": "6e83843b-2982-4dff-a41f-4a7709a77303",
   "metadata": {},
   "outputs": [],
   "source": [
    "# Save references to the tables.\n",
    "Contacts = Base.classes.contacts_df\n",
    "Campaign = Base.classes.campaign_df\n",
    "Category = Base.classes.category_df\n",
    "Subcategory = Base.classes.subcategory_df"
   ]
  },
  {
   "cell_type": "code",
   "execution_count": 7,
   "id": "0d67873f-7f81-44f7-a0c0-3c6eac2fc382",
   "metadata": {},
   "outputs": [],
   "source": [
    "# Create a Session.\n",
    "session = Session(bind = engine)"
   ]
  },
  {
   "cell_type": "code",
   "execution_count": 8,
   "id": "25aea89a-c4d5-40ec-8fdb-937b938e4cb3",
   "metadata": {},
   "outputs": [],
   "source": [
    "# Grab the Campaign outcome, goal, and pledged from the database.\n",
    "# BUT: only the 'successful' or 'failed' campaigns from the US using USD as their currency.\n",
    "results = session.query(\n",
    "    Campaign.outcome,\n",
    "    Campaign.goal,\n",
    "    Campaign.pledged\n",
    ").filter(\n",
    "    (Campaign.outcome == \"successful\") | (Campaign.outcome == \"failed\"),\n",
    "    Campaign.currency == \"USD\",\n",
    "    Campaign.country == \"US\"\n",
    ").all()"
   ]
  },
  {
   "cell_type": "code",
   "execution_count": 9,
   "id": "62fdd94c-3b32-4189-b8ed-2841df9e5df7",
   "metadata": {},
   "outputs": [
    {
     "name": "stdout",
     "output_type": "stream",
     "text": [
      "<class 'pandas.core.frame.DataFrame'>\n",
      "RangeIndex: 710 entries, 0 to 709\n",
      "Data columns (total 3 columns):\n",
      " #   Column   Non-Null Count  Dtype  \n",
      "---  ------   --------------  -----  \n",
      " 0   outcome  710 non-null    object \n",
      " 1   goal     710 non-null    float64\n",
      " 2   pledged  710 non-null    float64\n",
      "dtypes: float64(2), object(1)\n",
      "memory usage: 16.8+ KB\n"
     ]
    },
    {
     "data": {
      "text/plain": [
       "None"
      ]
     },
     "metadata": {},
     "output_type": "display_data"
    },
    {
     "data": {
      "text/html": [
       "<div>\n",
       "<style scoped>\n",
       "    .dataframe tbody tr th:only-of-type {\n",
       "        vertical-align: middle;\n",
       "    }\n",
       "\n",
       "    .dataframe tbody tr th {\n",
       "        vertical-align: top;\n",
       "    }\n",
       "\n",
       "    .dataframe thead th {\n",
       "        text-align: right;\n",
       "    }\n",
       "</style>\n",
       "<table border=\"1\" class=\"dataframe\">\n",
       "  <thead>\n",
       "    <tr style=\"text-align: right;\">\n",
       "      <th></th>\n",
       "      <th>outcome</th>\n",
       "      <th>goal</th>\n",
       "      <th>pledged</th>\n",
       "    </tr>\n",
       "  </thead>\n",
       "  <tbody>\n",
       "    <tr>\n",
       "      <th>0</th>\n",
       "      <td>successful</td>\n",
       "      <td>1800.0</td>\n",
       "      <td>7991.0</td>\n",
       "    </tr>\n",
       "    <tr>\n",
       "      <th>1</th>\n",
       "      <td>successful</td>\n",
       "      <td>1300.0</td>\n",
       "      <td>12047.0</td>\n",
       "    </tr>\n",
       "    <tr>\n",
       "      <th>2</th>\n",
       "      <td>failed</td>\n",
       "      <td>142400.0</td>\n",
       "      <td>21307.0</td>\n",
       "    </tr>\n",
       "    <tr>\n",
       "      <th>3</th>\n",
       "      <td>successful</td>\n",
       "      <td>3300.0</td>\n",
       "      <td>12437.0</td>\n",
       "    </tr>\n",
       "    <tr>\n",
       "      <th>4</th>\n",
       "      <td>failed</td>\n",
       "      <td>7200.0</td>\n",
       "      <td>6927.0</td>\n",
       "    </tr>\n",
       "  </tbody>\n",
       "</table>\n",
       "</div>"
      ],
      "text/plain": [
       "      outcome      goal  pledged\n",
       "0  successful    1800.0   7991.0\n",
       "1  successful    1300.0  12047.0\n",
       "2      failed  142400.0  21307.0\n",
       "3  successful    3300.0  12437.0\n",
       "4      failed    7200.0   6927.0"
      ]
     },
     "metadata": {},
     "output_type": "display_data"
    }
   ],
   "source": [
    "# Convert the data into a DataFrame.\n",
    "campaign_df = pd.DataFrame(results)\n",
    "display(campaign_df.info())\n",
    "display(campaign_df.head())"
   ]
  },
  {
   "cell_type": "code",
   "execution_count": 10,
   "id": "239f8f2b-0ea0-4341-8b4c-0090513f09bb",
   "metadata": {},
   "outputs": [
    {
     "name": "stderr",
     "output_type": "stream",
     "text": [
      "C:\\Users\\emteb\\anaconda3\\envs\\dev\\lib\\site-packages\\seaborn\\_oldcore.py:1119: FutureWarning: use_inf_as_na option is deprecated and will be removed in a future version. Convert inf values to NaN before operating instead.\n",
      "  with pd.option_context('mode.use_inf_as_na', True):\n"
     ]
    },
    {
     "data": {
      "image/png": "[encoded data removed]",
      "text/plain": [
       "<Figure size 800x600 with 1 Axes>"
      ]
     },
     "metadata": {},
     "output_type": "display_data"
    }
   ],
   "source": [
    "# Make a visualization.\n",
    "# Canvas.\n",
    "fig = plt.figure(figsize = (8, 6))\n",
    "\n",
    "# Skeleton.\n",
    "ax = sns.histplot(\n",
    "    data = campaign_df,\n",
    "    x = campaign_df.goal,\n",
    "    stat = \"percent\",\n",
    "    multiple = \"dodge\",\n",
    "    shrink = .75,\n",
    "    binwidth = 5000,\n",
    "    binrange = (0, 50000),\n",
    "    hue = campaign_df.outcome,\n",
    "    palette = [\"forestgreen\", \"firebrick\"]\n",
    ")\n",
    "\n",
    "# Formatting.\n",
    "plt.title(\"Outcome of U.S. Kickstarter Campaigns\")\n",
    "\n",
    "plt.xlabel(\"Goal (USD)\")\n",
    "plt.xticks(np.arange(0, 50001, 5000))\n",
    "plt.xlim(0, 50001)\n",
    "\n",
    "plt.ylabel(\"\")\n",
    "plt.yticks(np.arange(0, 101, 5))\n",
    "plt.ylim(0, 50)\n",
    "ax.yaxis.set_major_formatter(mtick.PercentFormatter())\n",
    "\n",
    "plt.legend([\"Failed\", \"Successful\"])\n",
    "\n",
    "plt.grid(axis = \"y\", color = \"gray\", alpha = .25)\n",
    "\n",
    "# Show.\n",
    "plt.show()"
   ]
  },
  {
   "cell_type": "code",
   "execution_count": 11,
   "id": "611d88c2-0dea-49a7-8dec-d12d3632bbd7",
   "metadata": {},
   "outputs": [],
   "source": [
    "# Kill the connection.\n",
    "engine.dispose() "
   ]
  }
 ],
 "metadata": {
  "kernelspec": {
   "display_name": "Python 3 (ipykernel)",
   "language": "python",
   "name": "python3"
  },
  "language_info": {
   "codemirror_mode": {
    "name": "ipython",
    "version": 3
   },
   "file_extension": ".py",
   "mimetype": "text/x-python",
   "name": "python",
   "nbconvert_exporter": "python",
   "pygments_lexer": "ipython3",
   "version": "3.10.14"
  }
 },
 "nbformat": 4,
 "nbformat_minor": 5
}
